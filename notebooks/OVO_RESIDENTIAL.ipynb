{
 "cells": [
  {
   "cell_type": "code",
   "execution_count": 1,
   "metadata": {},
   "outputs": [],
   "source": [
    "import pandas as pd\n",
    "import numpy as np\n",
    "from collections import Counter\n",
    "import time\n",
    "from sklearn.preprocessing import MinMaxScaler, StandardScaler\n",
    "from sklearn.model_selection import cross_validate, cross_val_predict\n",
    "from sklearn.ensemble import RandomForestClassifier\n",
    "from sklearn.neighbors import KNeighborsClassifier\n",
    "from sklearn.metrics import accuracy_score, confusion_matrix, classification_report\n",
    "from imblearn.under_sampling import CondensedNearestNeighbour, RandomUnderSampler\n"
   ]
  },
  {
   "cell_type": "code",
   "execution_count": 69,
   "metadata": {},
   "outputs": [],
   "source": [
    "_data = pd.read_csv('./data/Modelar_UH2020.txt', sep='|')\n",
    "_labels = _data.CLASE\n",
    "_data.drop('CLASE', axis=1, inplace=True)\n",
    "_data.drop('ID', axis=1, inplace=True)\n",
    "\n",
    "# Variable categórica a numérica:\n",
    "_data['CADASTRALQUALITYID'] = _data['CADASTRALQUALITYID'].map({'9': 0,\n",
    "                               '8': 1,\n",
    "                               '7': 2,\n",
    "                               '6': 3,\n",
    "                               '5': 4,\n",
    "                               '4': 5,\n",
    "                               '3': 6,\n",
    "                               '2': 7,\n",
    "                               '1': 8,\n",
    "                               'C': 9,\n",
    "                               'B': 10,\n",
    "                               'A': 11})\n",
    "\n",
    "# Imputación de NANs con la mediana:\n",
    "_data['MAXBUILDINGFLOOR'].fillna(_data['MAXBUILDINGFLOOR'].median(), inplace=True)\n",
    "_data['CADASTRALQUALITYID'].fillna(_data['CADASTRALQUALITYID'].median(), inplace=True)"
   ]
  },
  {
   "cell_type": "markdown",
   "metadata": {},
   "source": [
    "#### Normalizar:"
   ]
  },
  {
   "cell_type": "code",
   "execution_count": 23,
   "metadata": {},
   "outputs": [],
   "source": [
    "_data = pd.DataFrame( StandardScaler().fit_transform(_data), columns=_data.columns)"
   ]
  },
  {
   "cell_type": "code",
   "execution_count": 70,
   "metadata": {},
   "outputs": [],
   "source": [
    "_data = pd.DataFrame( MinMaxScaler().fit_transform(_data), columns=_data.columns)"
   ]
  },
  {
   "cell_type": "code",
   "execution_count": 53,
   "metadata": {},
   "outputs": [
    {
     "data": {
      "text/plain": [
       "Counter({'RESIDENTIAL': 90173,\n",
       "         'INDUSTRIAL': 4490,\n",
       "         'PUBLIC': 2976,\n",
       "         'OFFICE': 1828,\n",
       "         'OTHER': 1332,\n",
       "         'RETAIL': 2093,\n",
       "         'AGRICULTURE': 338})"
      ]
     },
     "execution_count": 53,
     "metadata": {},
     "output_type": "execute_result"
    }
   ],
   "source": [
    "Counter(labels)"
   ]
  },
  {
   "cell_type": "markdown",
   "metadata": {},
   "source": [
    "## OFFICE vs RETAIL:"
   ]
  },
  {
   "cell_type": "code",
   "execution_count": 71,
   "metadata": {},
   "outputs": [
    {
     "name": "stdout",
     "output_type": "stream",
     "text": [
      "Counter({'RETAIL': 2093, 'OFFICE': 1828})\n",
      "\n",
      "[0.76358072 0.75133894 0.75669472]\n",
      "              precision    recall  f1-score   support\n",
      "\n",
      "      OFFICE      0.729     0.753     0.741      1828\n",
      "      RETAIL      0.778     0.755     0.766      2093\n",
      "\n",
      "    accuracy                          0.754      3921\n",
      "   macro avg      0.753     0.754     0.753      3921\n",
      "weighted avg      0.755     0.754     0.754      3921\n",
      "\n"
     ]
    }
   ],
   "source": [
    "data = pd.concat([_data,_labels], axis=1)\n",
    "data_1 = data[data.CLASE == \"OFFICE\"]\n",
    "data_2 = data[data.CLASE == \"RETAIL\"]\n",
    "data = pd.concat([data_1, data_2])\n",
    "labels = data.CLASE\n",
    "data = data.drop('CLASE', axis=1)\n",
    "X = data.values\n",
    "y = labels.values\n",
    "print(Counter(y))\n",
    "print()\n",
    "cv_results = cross_validate(RandomForestClassifier(n_jobs=-1), X, y, cv=3)\n",
    "print(cv_results['test_score'])\n",
    "cv_pred = cross_val_predict(RandomForestClassifier(n_jobs=-1), X, y, cv=3)\n",
    "print(classification_report(y, cv_pred, digits=3))"
   ]
  },
  {
   "cell_type": "markdown",
   "metadata": {},
   "source": [
    "## OFFICE vs PUBLIC:"
   ]
  },
  {
   "cell_type": "code",
   "execution_count": 72,
   "metadata": {},
   "outputs": [
    {
     "name": "stdout",
     "output_type": "stream",
     "text": [
      "Counter({'PUBLIC': 2976, 'OFFICE': 1828})\n",
      "\n",
      "[0.78589263 0.76202374 0.76702061]\n",
      "              precision    recall  f1-score   support\n",
      "\n",
      "      OFFICE      0.711     0.666     0.688      1828\n",
      "      PUBLIC      0.803     0.833     0.818      2976\n",
      "\n",
      "    accuracy                          0.770      4804\n",
      "   macro avg      0.757     0.750     0.753      4804\n",
      "weighted avg      0.768     0.770     0.768      4804\n",
      "\n"
     ]
    }
   ],
   "source": [
    "data = pd.concat([_data,_labels], axis=1)\n",
    "data_1 = data[data.CLASE == \"OFFICE\"]\n",
    "data_2 = data[data.CLASE == \"PUBLIC\"]\n",
    "data = pd.concat([data_1, data_2])\n",
    "labels = data.CLASE\n",
    "data = data.drop('CLASE', axis=1)\n",
    "X = data.values\n",
    "y = labels.values\n",
    "print(Counter(y))\n",
    "print()\n",
    "cv_results = cross_validate(RandomForestClassifier(n_jobs=-1), X, y, cv=3)\n",
    "print(cv_results['test_score'])\n",
    "cv_pred = cross_val_predict(RandomForestClassifier(n_jobs=-1), X, y, cv=3)\n",
    "print(classification_report(y, cv_pred, digits=3))"
   ]
  },
  {
   "cell_type": "markdown",
   "metadata": {},
   "source": [
    "## OFFICE vs OTHER:"
   ]
  },
  {
   "cell_type": "code",
   "execution_count": 73,
   "metadata": {},
   "outputs": [
    {
     "name": "stdout",
     "output_type": "stream",
     "text": [
      "Counter({'OFFICE': 1828, 'OTHER': 1332})\n",
      "\n",
      "[0.88519924 0.88698955 0.88034188]\n",
      "              precision    recall  f1-score   support\n",
      "\n",
      "      OFFICE      0.892     0.902     0.897      1828\n",
      "       OTHER      0.863     0.851     0.857      1332\n",
      "\n",
      "    accuracy                          0.880      3160\n",
      "   macro avg      0.878     0.876     0.877      3160\n",
      "weighted avg      0.880     0.880     0.880      3160\n",
      "\n"
     ]
    }
   ],
   "source": [
    "data = pd.concat([_data,_labels], axis=1)\n",
    "data_1 = data[data.CLASE == \"OFFICE\"]\n",
    "data_2 = data[data.CLASE == \"OTHER\"]\n",
    "data = pd.concat([data_1, data_2])\n",
    "labels = data.CLASE\n",
    "data = data.drop('CLASE', axis=1)\n",
    "X = data.values\n",
    "y = labels.values\n",
    "print(Counter(y))\n",
    "print()\n",
    "cv_results = cross_validate(RandomForestClassifier(n_jobs=-1), X, y, cv=3)\n",
    "print(cv_results['test_score'])\n",
    "cv_pred = cross_val_predict(RandomForestClassifier(n_jobs=-1), X, y, cv=3)\n",
    "print(classification_report(y, cv_pred, digits=3))"
   ]
  },
  {
   "cell_type": "markdown",
   "metadata": {},
   "source": [
    "## OFFICE vs INDUSTRIAL:"
   ]
  },
  {
   "cell_type": "code",
   "execution_count": 74,
   "metadata": {},
   "outputs": [
    {
     "name": "stdout",
     "output_type": "stream",
     "text": [
      "Counter({'INDUSTRIAL': 4490, 'OFFICE': 1828})\n",
      "\n",
      "[0.82526116 0.83238367 0.81528965]\n",
      "              precision    recall  f1-score   support\n",
      "\n",
      "  INDUSTRIAL      0.855     0.905     0.879      4490\n",
      "      OFFICE      0.728     0.622     0.671      1828\n",
      "\n",
      "    accuracy                          0.823      6318\n",
      "   macro avg      0.791     0.764     0.775      6318\n",
      "weighted avg      0.818     0.823     0.819      6318\n",
      "\n"
     ]
    }
   ],
   "source": [
    "data = pd.concat([_data,_labels], axis=1)\n",
    "data_1 = data[data.CLASE == \"OFFICE\"]\n",
    "data_2 = data[data.CLASE == \"INDUSTRIAL\"]\n",
    "data = pd.concat([data_1, data_2])\n",
    "labels = data.CLASE\n",
    "data = data.drop('CLASE', axis=1)\n",
    "X = data.values\n",
    "y = labels.values\n",
    "print(Counter(y))\n",
    "print()\n",
    "cv_results = cross_validate(RandomForestClassifier(n_jobs=-1), X, y, cv=3)\n",
    "print(cv_results['test_score'])\n",
    "cv_pred = cross_val_predict(RandomForestClassifier(n_jobs=-1), X, y, cv=3)\n",
    "print(classification_report(y, cv_pred, digits=3))"
   ]
  },
  {
   "cell_type": "markdown",
   "metadata": {},
   "source": [
    "## OFFICE vs AGRICULTURE:"
   ]
  },
  {
   "cell_type": "code",
   "execution_count": 75,
   "metadata": {},
   "outputs": [
    {
     "name": "stdout",
     "output_type": "stream",
     "text": [
      "Counter({'OFFICE': 1828, 'AGRICULTURE': 338})\n",
      "\n",
      "[0.97783934 0.96952909 0.97506925]\n",
      "              precision    recall  f1-score   support\n",
      "\n",
      " AGRICULTURE      0.950     0.905     0.927       338\n",
      "      OFFICE      0.983     0.991     0.987      1828\n",
      "\n",
      "    accuracy                          0.978      2166\n",
      "   macro avg      0.966     0.948     0.957      2166\n",
      "weighted avg      0.978     0.978     0.978      2166\n",
      "\n"
     ]
    }
   ],
   "source": [
    "data = pd.concat([_data,_labels], axis=1)\n",
    "data_1 = data[data.CLASE == \"OFFICE\"]\n",
    "data_2 = data[data.CLASE == \"AGRICULTURE\"]\n",
    "data = pd.concat([data_1, data_2])\n",
    "labels = data.CLASE\n",
    "data = data.drop('CLASE', axis=1)\n",
    "X = data.values\n",
    "y = labels.values\n",
    "print(Counter(y))\n",
    "print()\n",
    "cv_results = cross_validate(RandomForestClassifier(n_jobs=-1), X, y, cv=3)\n",
    "print(cv_results['test_score'])\n",
    "cv_pred = cross_val_predict(RandomForestClassifier(n_jobs=-1), X, y, cv=3)\n",
    "print(classification_report(y, cv_pred, digits=3))"
   ]
  },
  {
   "cell_type": "markdown",
   "metadata": {},
   "source": [
    "## OFFICE vs RESIDENTIAL:"
   ]
  },
  {
   "cell_type": "code",
   "execution_count": 76,
   "metadata": {},
   "outputs": [
    {
     "name": "stdout",
     "output_type": "stream",
     "text": [
      "Counter({'RESIDENTIAL': 90173, 'OFFICE': 1828})\n",
      "\n",
      "[0.98385887 0.98418495 0.98392409]\n",
      "              precision    recall  f1-score   support\n",
      "\n",
      "      OFFICE      0.799     0.251     0.382      1828\n",
      " RESIDENTIAL      0.985     0.999     0.992     90173\n",
      "\n",
      "    accuracy                          0.984     92001\n",
      "   macro avg      0.892     0.625     0.687     92001\n",
      "weighted avg      0.981     0.984     0.980     92001\n",
      "\n"
     ]
    }
   ],
   "source": [
    "data = pd.concat([_data,_labels], axis=1)\n",
    "data_1 = data[data.CLASE == \"OFFICE\"]\n",
    "data_2 = data[data.CLASE == \"RESIDENTIAL\"]\n",
    "data = pd.concat([data_1, data_2])\n",
    "labels = data.CLASE\n",
    "data = data.drop('CLASE', axis=1)\n",
    "X = data.values\n",
    "y = labels.values\n",
    "print(Counter(y))\n",
    "print()\n",
    "cv_results = cross_validate(RandomForestClassifier(n_jobs=-1), X, y, cv=3)\n",
    "print(cv_results['test_score'])\n",
    "cv_pred = cross_val_predict(RandomForestClassifier(n_jobs=-1), X, y, cv=3)\n",
    "print(classification_report(y, cv_pred, digits=3))"
   ]
  },
  {
   "cell_type": "code",
   "execution_count": null,
   "metadata": {},
   "outputs": [],
   "source": []
  },
  {
   "cell_type": "code",
   "execution_count": null,
   "metadata": {},
   "outputs": [],
   "source": []
  }
 ],
 "metadata": {
  "kernelspec": {
   "display_name": "Python 3",
   "language": "python",
   "name": "python3"
  },
  "language_info": {
   "codemirror_mode": {
    "name": "ipython",
    "version": 3
   },
   "file_extension": ".py",
   "mimetype": "text/x-python",
   "name": "python",
   "nbconvert_exporter": "python",
   "pygments_lexer": "ipython3",
   "version": "3.8.1"
  }
 },
 "nbformat": 4,
 "nbformat_minor": 4
}

{
 "cells": [
  {
   "cell_type": "code",
   "execution_count": 2,
   "metadata": {},
   "outputs": [],
   "source": [
    "import pandas as pd\n",
    "import numpy as np\n",
    "from collections import Counter\n",
    "import time\n",
    "from sklearn.preprocessing import MinMaxScaler, StandardScaler\n",
    "from sklearn.model_selection import cross_validate, cross_val_predict\n",
    "from sklearn.ensemble import RandomForestClassifier\n",
    "from sklearn.neighbors import KNeighborsClassifier\n",
    "from sklearn.metrics import accuracy_score, confusion_matrix, classification_report\n",
    "from imblearn.under_sampling import CondensedNearestNeighbour, RandomUnderSampler\n"
   ]
  },
  {
   "cell_type": "code",
   "execution_count": 3,
   "metadata": {},
   "outputs": [],
   "source": [
    "_data = pd.read_csv('./data/Modelar_UH2020.txt', sep='|')\n",
    "_labels = _data.CLASE\n",
    "_data.drop('CLASE', axis=1, inplace=True)\n",
    "_data.drop('ID', axis=1, inplace=True)\n",
    "\n",
    "# Variable categórica a numérica:\n",
    "_data['CADASTRALQUALITYID'] = _data['CADASTRALQUALITYID'].map({'9': 0,\n",
    "                               '8': 1,\n",
    "                               '7': 2,\n",
    "                               '6': 3,\n",
    "                               '5': 4,\n",
    "                               '4': 5,\n",
    "                               '3': 6,\n",
    "                               '2': 7,\n",
    "                               '1': 8,\n",
    "                               'C': 9,\n",
    "                               'B': 10,\n",
    "                               'A': 11})\n",
    "\n",
    "# Imputación de NANs con la mediana:\n",
    "_data['MAXBUILDINGFLOOR'].fillna(_data['MAXBUILDINGFLOOR'].median(), inplace=True)\n",
    "_data['CADASTRALQUALITYID'].fillna(_data['CADASTRALQUALITYID'].median(), inplace=True)"
   ]
  },
  {
   "cell_type": "markdown",
   "metadata": {},
   "source": [
    "#### Normalizar:"
   ]
  },
  {
   "cell_type": "code",
   "execution_count": 23,
   "metadata": {},
   "outputs": [],
   "source": [
    "_data = pd.DataFrame( StandardScaler().fit_transform(_data), columns=_data.columns)"
   ]
  },
  {
   "cell_type": "code",
   "execution_count": 4,
   "metadata": {},
   "outputs": [],
   "source": [
    "_data = pd.DataFrame( MinMaxScaler().fit_transform(_data), columns=_data.columns)"
   ]
  },
  {
   "cell_type": "code",
   "execution_count": 53,
   "metadata": {},
   "outputs": [
    {
     "data": {
      "text/plain": [
       "Counter({'RESIDENTIAL': 90173,\n",
       "         'INDUSTRIAL': 4490,\n",
       "         'PUBLIC': 2976,\n",
       "         'OFFICE': 1828,\n",
       "         'OTHER': 1332,\n",
       "         'RETAIL': 2093,\n",
       "         'AGRICULTURE': 338})"
      ]
     },
     "execution_count": 53,
     "metadata": {},
     "output_type": "execute_result"
    }
   ],
   "source": [
    "Counter(labels)"
   ]
  },
  {
   "cell_type": "markdown",
   "metadata": {},
   "source": [
    "## INDUSTRIAL vs RETAIL:"
   ]
  },
  {
   "cell_type": "code",
   "execution_count": 5,
   "metadata": {},
   "outputs": [
    {
     "name": "stdout",
     "output_type": "stream",
     "text": [
      "Counter({'INDUSTRIAL': 4490, 'RETAIL': 2093})\n",
      "\n",
      "[0.82186788 0.82087511 0.81905196]\n",
      "              precision    recall  f1-score   support\n",
      "\n",
      "  INDUSTRIAL      0.857     0.883     0.870      4490\n",
      "      RETAIL      0.731     0.683     0.707      2093\n",
      "\n",
      "    accuracy                          0.820      6583\n",
      "   macro avg      0.794     0.783     0.788      6583\n",
      "weighted avg      0.817     0.820     0.818      6583\n",
      "\n"
     ]
    }
   ],
   "source": [
    "data = pd.concat([_data,_labels], axis=1)\n",
    "data_1 = data[data.CLASE == \"INDUSTRIAL\"]\n",
    "data_2 = data[data.CLASE == \"RETAIL\"]\n",
    "data = pd.concat([data_1, data_2])\n",
    "labels = data.CLASE\n",
    "data = data.drop('CLASE', axis=1)\n",
    "X = data.values\n",
    "y = labels.values\n",
    "print(Counter(y))\n",
    "print()\n",
    "cv_results = cross_validate(RandomForestClassifier(n_jobs=-1), X, y, cv=3)\n",
    "print(cv_results['test_score'])\n",
    "cv_pred = cross_val_predict(RandomForestClassifier(n_jobs=-1), X, y, cv=3)\n",
    "print(classification_report(y, cv_pred, digits=3))"
   ]
  },
  {
   "cell_type": "markdown",
   "metadata": {},
   "source": [
    "## INDUSTRIAL vs PUBLIC:"
   ]
  },
  {
   "cell_type": "code",
   "execution_count": 6,
   "metadata": {},
   "outputs": [
    {
     "name": "stdout",
     "output_type": "stream",
     "text": [
      "Counter({'INDUSTRIAL': 4490, 'PUBLIC': 2976})\n",
      "\n",
      "[0.84732824 0.84652471 0.85610932]\n",
      "              precision    recall  f1-score   support\n",
      "\n",
      "  INDUSTRIAL      0.872     0.874     0.873      4490\n",
      "      PUBLIC      0.809     0.806     0.808      2976\n",
      "\n",
      "    accuracy                          0.847      7466\n",
      "   macro avg      0.841     0.840     0.840      7466\n",
      "weighted avg      0.847     0.847     0.847      7466\n",
      "\n"
     ]
    }
   ],
   "source": [
    "data = pd.concat([_data,_labels], axis=1)\n",
    "data_1 = data[data.CLASE == \"INDUSTRIAL\"]\n",
    "data_2 = data[data.CLASE == \"PUBLIC\"]\n",
    "data = pd.concat([data_1, data_2])\n",
    "labels = data.CLASE\n",
    "data = data.drop('CLASE', axis=1)\n",
    "X = data.values\n",
    "y = labels.values\n",
    "print(Counter(y))\n",
    "print()\n",
    "cv_results = cross_validate(RandomForestClassifier(n_jobs=-1), X, y, cv=3)\n",
    "print(cv_results['test_score'])\n",
    "cv_pred = cross_val_predict(RandomForestClassifier(n_jobs=-1), X, y, cv=3)\n",
    "print(classification_report(y, cv_pred, digits=3))"
   ]
  },
  {
   "cell_type": "markdown",
   "metadata": {},
   "source": [
    "## INDUSTRIAL vs OTHER:"
   ]
  },
  {
   "cell_type": "code",
   "execution_count": 7,
   "metadata": {},
   "outputs": [
    {
     "name": "stdout",
     "output_type": "stream",
     "text": [
      "Counter({'INDUSTRIAL': 4490, 'OTHER': 1332})\n",
      "\n",
      "[0.90108192 0.89026275 0.90773196]\n",
      "              precision    recall  f1-score   support\n",
      "\n",
      "  INDUSTRIAL      0.919     0.956     0.937      4490\n",
      "       OTHER      0.828     0.717     0.769      1332\n",
      "\n",
      "    accuracy                          0.901      5822\n",
      "   macro avg      0.874     0.836     0.853      5822\n",
      "weighted avg      0.898     0.901     0.899      5822\n",
      "\n"
     ]
    }
   ],
   "source": [
    "data = pd.concat([_data,_labels], axis=1)\n",
    "data_1 = data[data.CLASE == \"INDUSTRIAL\"]\n",
    "data_2 = data[data.CLASE == \"OTHER\"]\n",
    "data = pd.concat([data_1, data_2])\n",
    "labels = data.CLASE\n",
    "data = data.drop('CLASE', axis=1)\n",
    "X = data.values\n",
    "y = labels.values\n",
    "print(Counter(y))\n",
    "print()\n",
    "cv_results = cross_validate(RandomForestClassifier(n_jobs=-1), X, y, cv=3)\n",
    "print(cv_results['test_score'])\n",
    "cv_pred = cross_val_predict(RandomForestClassifier(n_jobs=-1), X, y, cv=3)\n",
    "print(classification_report(y, cv_pred, digits=3))"
   ]
  },
  {
   "cell_type": "markdown",
   "metadata": {},
   "source": [
    "## INDUSTRIAL vs RESIDENTIAL:"
   ]
  },
  {
   "cell_type": "code",
   "execution_count": 9,
   "metadata": {},
   "outputs": [
    {
     "name": "stdout",
     "output_type": "stream",
     "text": [
      "Counter({'RESIDENTIAL': 90173, 'INDUSTRIAL': 4490})\n",
      "\n",
      "[0.98136587 0.98111174 0.98035114]\n",
      "              precision    recall  f1-score   support\n",
      "\n",
      "  INDUSTRIAL      0.919     0.665     0.772      4490\n",
      " RESIDENTIAL      0.984     0.997     0.990     90173\n",
      "\n",
      "    accuracy                          0.981     94663\n",
      "   macro avg      0.951     0.831     0.881     94663\n",
      "weighted avg      0.980     0.981     0.980     94663\n",
      "\n"
     ]
    }
   ],
   "source": [
    "data = pd.concat([_data,_labels], axis=1)\n",
    "data_1 = data[data.CLASE == \"INDUSTRIAL\"]\n",
    "data_2 = data[data.CLASE == \"RESIDENTIAL\"]\n",
    "data = pd.concat([data_1, data_2])\n",
    "labels = data.CLASE\n",
    "data = data.drop('CLASE', axis=1)\n",
    "X = data.values\n",
    "y = labels.values\n",
    "print(Counter(y))\n",
    "print()\n",
    "cv_results = cross_validate(RandomForestClassifier(n_jobs=-1), X, y, cv=3)\n",
    "print(cv_results['test_score'])\n",
    "cv_pred = cross_val_predict(RandomForestClassifier(n_jobs=-1), X, y, cv=3)\n",
    "print(classification_report(y, cv_pred, digits=3))"
   ]
  },
  {
   "cell_type": "code",
   "execution_count": null,
   "metadata": {},
   "outputs": [],
   "source": []
  },
  {
   "cell_type": "code",
   "execution_count": null,
   "metadata": {},
   "outputs": [],
   "source": []
  }
 ],
 "metadata": {
  "kernelspec": {
   "display_name": "Python 3",
   "language": "python",
   "name": "python3"
  },
  "language_info": {
   "codemirror_mode": {
    "name": "ipython",
    "version": 3
   },
   "file_extension": ".py",
   "mimetype": "text/x-python",
   "name": "python",
   "nbconvert_exporter": "python",
   "pygments_lexer": "ipython3",
   "version": "3.8.1"
  }
 },
 "nbformat": 4,
 "nbformat_minor": 4
}

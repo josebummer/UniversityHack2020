{
 "cells": [
  {
   "cell_type": "markdown",
   "metadata": {},
   "source": [
    "# Librerías"
   ]
  },
  {
   "cell_type": "code",
   "execution_count": null,
   "metadata": {},
   "outputs": [],
   "source": [
    "import numpy as np\n",
    "import pandas as pd\n",
    "from imblearn.under_sampling import EditedNearestNeighbours\n",
    "from xgboost import XGBClassifier\n",
    "from sklearn.ensemble import RandomForestClassifier\n",
    "from sklearn.neighbors import KNeighborsClassifier\n",
    "from scipy.optimize import diferential_evolution\n",
    "from imblearn.pipeline import Pipeline"
   ]
  },
  {
   "cell_type": "markdown",
   "metadata": {},
   "source": [
    "# Datos"
   ]
  },
  {
   "cell_type": "markdown",
   "metadata": {},
   "source": [
    "Se cargan los datos de train y de test y se separa el train de las etiquetas."
   ]
  },
  {
   "cell_type": "code",
   "execution_count": null,
   "metadata": {},
   "outputs": [],
   "source": [
    "train = pd.read_csv('/home/jose/Escritorio/datathon/src/data/train.txt', sep='|', index_col='ID')\n",
    "test = pd.read_csv('/home/jose/Escritorio/datathon/src/data/test.txt', sep='|', index_col='ID')\n",
    "\n",
    "labels = train.iloc[:, -1]\n",
    "train.drop('CLASE', axis=1, inplace=True)"
   ]
  },
  {
   "cell_type": "markdown",
   "metadata": {},
   "source": [
    "Creamos distintas funciones para el preprocesado"
   ]
  },
  {
   "cell_type": "code",
   "execution_count": null,
   "metadata": {},
   "outputs": [],
   "source": [
    "def prepare_data(pdata):\n",
    "    data = pdata.copy()\n",
    "    data['CADASTRALQUALITYID'] = data['CADASTRALQUALITYID'].map({'9': '0',\n",
    "                                                                 '8': '1',\n",
    "                                                                 '7': '2',\n",
    "                                                                 '6': '3',\n",
    "                                                                 '5': '4',\n",
    "                                                                 '4': '5',\n",
    "                                                                 '3': '6',\n",
    "                                                                 '2': '7',\n",
    "                                                                 '1': '8',\n",
    "                                                                 'C': '9',\n",
    "                                                                 'B': '10',\n",
    "                                                                 'A': '11', })\n",
    "    data['CADASTRALQUALITYID'] = data['CADASTRALQUALITYID'].astype('category')\n",
    "\n",
    "    return data\n",
    "\n",
    "\n",
    "def fillna(pdata):\n",
    "    data = pdata.copy()\n",
    "\n",
    "    data['MAXBUILDINGFLOOR'].fillna(data['MAXBUILDINGFLOOR'].median(), inplace=True)\n",
    "    data['CADASTRALQUALITYID'].fillna(data['CADASTRALQUALITYID'].mode()[0], inplace=True)\n",
    "\n",
    "    return data\n",
    "\n",
    "\n",
    "def to_numeric(pdata):\n",
    "    data = pdata.copy()\n",
    "\n",
    "    data['CADASTRALQUALITYID'] = data['CADASTRALQUALITYID'].astype(np.int)\n",
    "\n",
    "    return data"
   ]
  },
  {
   "cell_type": "markdown",
   "metadata": {},
   "source": [
    "Ejecutamos las funciones sobre todo el conjunto y volvemos a dividirlo en train y test"
   ]
  },
  {
   "cell_type": "code",
   "execution_count": null,
   "metadata": {},
   "outputs": [],
   "source": [
    "data = prepare_data(data)\n",
    "data = fillna(data)\n",
    "data = to_numeric(data)\n",
    "\n",
    "train, test = data.iloc[:train.shape[0], ], data.iloc[train.shape[0]:, ]"
   ]
  },
  {
   "cell_type": "markdown",
   "metadata": {},
   "source": [
    "# Creación mejores modelos obtenidos"
   ]
  },
  {
   "cell_type": "code",
   "execution_count": null,
   "metadata": {},
   "outputs": [],
   "source": [
    "models = {\n",
    "    {'RESIDENTIAL': Pipeline([('scl', StandardScaler()),\n",
    "                               ('enn', EditedNearestNeighbours(sampling_strategy='majority')),\n",
    "                               ('clf', XGBClassifier(n_estimators=500, max_depth=15, learning_rate=0.1))]),\n",
    "    'INDUSTRIAL': Pipeline([('scl', StandardScaler()),\n",
    "                           ('enn', EditedNearestNeighbours(sampling_strategy='majority')),\n",
    "                           ('clf', XGBClassifier(n_estimators=1000, max_depth=10, learning_rate=0.1))]),\n",
    "    'PUBLIC': Pipeline([('scl', StandardScaler()),\n",
    "                       ('enn', EditedNearestNeighbours(sampling_strategy='majority')),\n",
    "                       ('clf', XGBClassifier(n_estimators=1000, max_depth=15, learning_rate=0.15))]),\n",
    "    'OFFICE': Pipeline([('scl', StandardScaler()),\n",
    "                       ('enn', EditedNearestNeighbours(sampling_strategy='majority')),\n",
    "                       ('clf', XGBClassifier(n_estimators=1000, max_depth=10, learning_rate=0.1))]),\n",
    "    'RETAIL': Pipeline([('scl', StandardScaler()),\n",
    "                       ('enn', EditedNearestNeighbours(sampling_strategy='majority')),\n",
    "                       ('clf', XGBClassifier(n_estimators=1000, max_depth=15, learning_rate=0.1))]),\n",
    "    'AGRICULTURE': Pipeline([('scl', StandardScaler()),\n",
    "                       ('enn', EditedNearestNeighbours(sampling_strategy='majority')),\n",
    "                       ('clf', KNeighborsClassifier(weights='distance', n_neighbors=3, metric='manhattan'))]),\n",
    "    'OTHER': Pipeline([('scl', StandardScaler()),\n",
    "                       ('enn', EditedNearestNeighbours(sampling_strategy='majority')),\n",
    "                       ('clf', XGBClassifier(n_estimators=1000, max_depth=10, learning_rate=0.1))])}\n",
    "}"
   ]
  },
  {
   "cell_type": "markdown",
   "metadata": {},
   "source": [
    "# Creación del fichero de salida"
   ]
  },
  {
   "cell_type": "markdown",
   "metadata": {},
   "source": [
    "Una vez creados los modelos, solo tenemos que construir el fichero de salida"
   ]
  },
  {
   "cell_type": "code",
   "execution_count": null,
   "metadata": {},
   "outputs": [],
   "source": [
    "labels_names = np.unique(labels)\n",
    "\n",
    "y_pred_label = []\n",
    "for label in labels_names:\n",
    "    print('Load %s model:' % label)\n",
    "\n",
    "    model = models[label]\n",
    "\n",
    "    if label != 'RESIDENTIAL':\n",
    "        y_train = np.array([1 if x == label else -1 for x in labels])\n",
    "    else:\n",
    "        y_train = np.array([-1 if x == label else 1 for x in labels])\n",
    "\n",
    "    print('Training...')\n",
    "    model.fit(train, y_train)\n",
    "\n",
    "    pred_proba = model.predict_proba(train)\n",
    "\n",
    "    if label != 'RESIDENTIAL':\n",
    "        y_pred_label.append(pred_proba[:, 1])\n",
    "    else:\n",
    "        y_pred_label.append(pred_proba[:, 0])\n",
    "\n",
    "y_pred = labels_names[np.argmax(y_pred_label, axis=0)]"
   ]
  },
  {
   "cell_type": "markdown",
   "metadata": {},
   "source": [
    "# Calibración de la salida"
   ]
  },
  {
   "cell_type": "code",
   "execution_count": null,
   "metadata": {},
   "outputs": [],
   "source": [
    "def predict2(i,X):\n",
    "    return np.argmax(X+i.reshape(1,-1),axis=1)\n",
    "\n",
    "def eval_sol2(i,X,y,y_weights):\n",
    "    return -accuracy_score(y,predict2(i,X),sample_weight=y_weights)\n",
    "\n",
    "cv = list(StratifiedKFold(shuffle=True).split(X,y))\n",
    "\n",
    "ypred2 = np.zeros(y.shape)\n",
    "for tr_idx,ts_idx in progressbar.progressbar(cv):\n",
    "    de = differential_evolution(eval_sol2,[(-1,1)]*len(le.classes_),popsize=30, tol=1e-4, workers=-1,args=[X[tr_idx],y[tr_idx],y_weights[tr_idx]])\n",
    "    ypred2[ts_idx] = predict2(de.x,X[ts_idx])"
   ]
  },
  {
   "cell_type": "markdown",
   "metadata": {},
   "source": [
    "# Creación del fichero de salida"
   ]
  },
  {
   "cell_type": "code",
   "execution_count": null,
   "metadata": {},
   "outputs": [],
   "source": [
    "submit = {'ID': test.index, 'CLASE': y_pred2}\n",
    "df_submit = pd.DataFrame(data=submit)\n",
    "\n",
    "df_submit.to_csv('predictions/UGR_Code Digger.txt', sep='|', index=False)"
   ]
  }
 ],
 "metadata": {
  "kernelspec": {
   "display_name": "Python (py)",
   "language": "python",
   "name": "myenv"
  },
  "language_info": {
   "codemirror_mode": {
    "name": "ipython",
    "version": 3
   },
   "file_extension": ".py",
   "mimetype": "text/x-python",
   "name": "python",
   "nbconvert_exporter": "python",
   "pygments_lexer": "ipython3",
   "version": "3.7.4"
  }
 },
 "nbformat": 4,
 "nbformat_minor": 2
}

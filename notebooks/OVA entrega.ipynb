{
 "cells": [
  {
   "cell_type": "code",
   "execution_count": 15,
   "metadata": {},
   "outputs": [],
   "source": [
    "import pickle\n",
    "from sklearn.metrics import accuracy_score, classification_report, confusion_matrix, make_scorer, f1_score\n",
    "from sklearn.preprocessing import StandardScaler\n",
    "from sklearn.model_selection import train_test_split\n",
    "from sklearn.neighbors import KNeighborsClassifier\n",
    "from xgboost import XGBClassifier\n",
    "from sklearn.model_selection import GridSearchCV\n",
    "import numpy as np\n",
    "import seaborn as sns\n",
    "import pandas as pd"
   ]
  },
  {
   "cell_type": "markdown",
   "metadata": {},
   "source": [
    "# Lectura de datos"
   ]
  },
  {
   "cell_type": "code",
   "execution_count": 2,
   "metadata": {},
   "outputs": [],
   "source": [
    "data = pd.read_csv('/home/jose/Escritorio/datathon/src/data/train.txt', sep='|', index_col='ID')\n",
    "# test = pd.read_csv('/home/jose/Escritorio/datathon/src/data/test.txt', sep='|', index_col='ID')\n",
    "\n",
    "labels = data.iloc[:, -1]\n",
    "data.drop('CLASE', axis=1, inplace=True)\n",
    "\n",
    "train, test, y_train, y_test = train_test_split(data, labels, test_size=0.2, random_state=123)\n",
    "\n",
    "data = pd.concat([train, test], sort=False)\n",
    "\n",
    "data['CADASTRALQUALITYID'] = data['CADASTRALQUALITYID'].map({'9': '0',\n",
    "                               '8': '1',\n",
    "                               '7': '2',\n",
    "                               '6': '3',\n",
    "                               '5': '4',\n",
    "                               '4': '5',\n",
    "                               '3': '6',\n",
    "                               '2': '7',\n",
    "                               '1': '8',\n",
    "                               'C': '9',\n",
    "                               'B': '10',\n",
    "                               'A': '11',})\n",
    "data['CADASTRALQUALITYID'] = data['CADASTRALQUALITYID'].astype('category')"
   ]
  },
  {
   "cell_type": "markdown",
   "metadata": {},
   "source": [
    "# Tratamiento de NaN"
   ]
  },
  {
   "cell_type": "code",
   "execution_count": 3,
   "metadata": {},
   "outputs": [],
   "source": [
    "data['MAXBUILDINGFLOOR'].fillna(data['MAXBUILDINGFLOOR'].median(), inplace=True)\n",
    "data['CADASTRALQUALITYID'].fillna(data['CADASTRALQUALITYID'].mode()[0], inplace=True)"
   ]
  },
  {
   "cell_type": "markdown",
   "metadata": {},
   "source": [
    "# Preprocesado"
   ]
  },
  {
   "cell_type": "code",
   "execution_count": 4,
   "metadata": {},
   "outputs": [],
   "source": [
    "sc = StandardScaler()\n",
    "data = pd.concat([pd.DataFrame(sc.fit_transform(data.select_dtypes(['number'])),\n",
    "                              index=data.index,\n",
    "                              columns=data.select_dtypes(['number']).columns),\n",
    "                data.select_dtypes(['category', 'object'])], axis=1, sort=False)\n",
    "\n",
    "train, test = data.iloc[:train.shape[0], ], data.iloc[train.shape[0]:, ]"
   ]
  },
  {
   "cell_type": "markdown",
   "metadata": {},
   "source": [
    "# Modelo"
   ]
  },
  {
   "cell_type": "code",
   "execution_count": 5,
   "metadata": {},
   "outputs": [],
   "source": [
    "model = KNeighborsClassifier(n_jobs=-1)\n",
    "\n",
    "model.fit(train, y_train)\n",
    "\n",
    "y_pred = model.predict(test)"
   ]
  },
  {
   "cell_type": "code",
   "execution_count": 6,
   "metadata": {},
   "outputs": [
    {
     "data": {
      "text/plain": [
       "0.9043398236946624"
      ]
     },
     "execution_count": 6,
     "metadata": {},
     "output_type": "execute_result"
    }
   ],
   "source": [
    "accuracy_score(y_test, y_pred)"
   ]
  },
  {
   "cell_type": "code",
   "execution_count": 7,
   "metadata": {},
   "outputs": [
    {
     "name": "stdout",
     "output_type": "stream",
     "text": [
      "              precision    recall  f1-score   support\n",
      "\n",
      " AGRICULTURE     0.7705    0.5875    0.6667        80\n",
      "  INDUSTRIAL     0.6835    0.5928    0.6349       889\n",
      "      OFFICE     0.3624    0.1414    0.2034       382\n",
      "       OTHER     0.5862    0.3160    0.4106       269\n",
      "      PUBLIC     0.4486    0.1388    0.2120       598\n",
      " RESIDENTIAL     0.9260    0.9886    0.9563     18018\n",
      "      RETAIL     0.6327    0.1512    0.2441       410\n",
      "\n",
      "    accuracy                         0.9043     20646\n",
      "   macro avg     0.6300    0.4166    0.4754     20646\n",
      "weighted avg     0.8804    0.9043    0.8846     20646\n",
      "\n"
     ]
    }
   ],
   "source": [
    "print(classification_report(y_test, y_pred, digits=4))"
   ]
  },
  {
   "cell_type": "code",
   "execution_count": 8,
   "metadata": {
    "scrolled": true
   },
   "outputs": [
    {
     "name": "stdout",
     "output_type": "stream",
     "text": [
      "[[   47    17     1     0     1    14     0]\n",
      " [    4   527    25    11    11   298    13]\n",
      " [    0    87    54     2    11   226     2]\n",
      " [    0    25     1    85     9   143     6]\n",
      " [    1    24    14    21    83   450     5]\n",
      " [    7    69    43    19    57 17813    10]\n",
      " [    2    22    11     7    13   293    62]]\n"
     ]
    }
   ],
   "source": [
    "print(confusion_matrix(y_test, y_pred))"
   ]
  },
  {
   "cell_type": "markdown",
   "metadata": {},
   "source": [
    "# Ajuste de hiperparametros"
   ]
  },
  {
   "cell_type": "code",
   "execution_count": 10,
   "metadata": {},
   "outputs": [
    {
     "name": "stderr",
     "output_type": "stream",
     "text": [
      "/home/jose/anaconda3/envs/py/lib/python3.7/site-packages/joblib/externals/loky/process_executor.py:706: UserWarning: A worker stopped while some jobs were given to the executor. This can be caused by a too short worker timeout or by a memory leak.\n",
      "  \"timeout or by a memory leak.\", UserWarning\n"
     ]
    },
    {
     "name": "stdout",
     "output_type": "stream",
     "text": [
      "{'metric': 'manhattan', 'n_jobs': -1, 'n_neighbors': 3, 'weights': 'distance'}\n"
     ]
    }
   ],
   "source": [
    "params = True\n",
    "\n",
    "if params:\n",
    "    params = {'n_neighbors': [1,3,5,7,11,13,15],\n",
    "             'weights': ['uniform', 'distance'],\n",
    "             'metric': ['minkowski', 'manhattan'],\n",
    "             'n_jobs': [-1]}\n",
    "\n",
    "    model = KNeighborsClassifier()\n",
    "\n",
    "    grid = GridSearchCV(model, params, cv=5, scoring=make_scorer(f1_score, average='macro'), n_jobs=-1)\n",
    "\n",
    "    grid.fit(train, y_train)\n",
    "    \n",
    "    best_params = grid.best_params_\n",
    "    \n",
    "    model = KNeighborsClassifier(**best_params)\n",
    "    model.fit(train, y_train)\n",
    "    \n",
    "    print(best_params)\n",
    "else:\n",
    "    best_params = {'weights': 'distance', 'n_neighbors': 3, 'n_jobs': -1, 'metric': 'manhattan'}\n",
    "    model = KNeighborsClassifier(**best_params)\n",
    "    model.fit(train, y_train)"
   ]
  },
  {
   "cell_type": "markdown",
   "metadata": {},
   "source": [
    "# Prueba del modelo ajustado"
   ]
  },
  {
   "cell_type": "code",
   "execution_count": 11,
   "metadata": {},
   "outputs": [],
   "source": [
    "y_pred = model.predict(test)"
   ]
  },
  {
   "cell_type": "code",
   "execution_count": 12,
   "metadata": {},
   "outputs": [
    {
     "data": {
      "text/plain": [
       "0.9054054054054054"
      ]
     },
     "execution_count": 12,
     "metadata": {},
     "output_type": "execute_result"
    }
   ],
   "source": [
    "accuracy_score(y_test, y_pred)"
   ]
  },
  {
   "cell_type": "code",
   "execution_count": 13,
   "metadata": {},
   "outputs": [
    {
     "name": "stdout",
     "output_type": "stream",
     "text": [
      "              precision    recall  f1-score   support\n",
      "\n",
      " AGRICULTURE     0.8382    0.7125    0.7703        80\n",
      "  INDUSTRIAL     0.7092    0.6007    0.6504       889\n",
      "      OFFICE     0.3586    0.2225    0.2746       382\n",
      "       OTHER     0.6000    0.4126    0.4890       269\n",
      "      PUBLIC     0.4529    0.2090    0.2860       598\n",
      " RESIDENTIAL     0.9352    0.9812    0.9577     18018\n",
      "      RETAIL     0.4550    0.2463    0.3196       410\n",
      "\n",
      "    accuracy                         0.9054     20646\n",
      "   macro avg     0.6213    0.4836    0.5354     20646\n",
      "weighted avg     0.8866    0.9054    0.8928     20646\n",
      "\n"
     ]
    }
   ],
   "source": [
    "print(classification_report(y_test, y_pred, digits=4))"
   ]
  },
  {
   "cell_type": "code",
   "execution_count": 14,
   "metadata": {
    "scrolled": true
   },
   "outputs": [
    {
     "name": "stdout",
     "output_type": "stream",
     "text": [
      "[[   57     7     0     0     0    15     1]\n",
      " [    4   534    38    13    13   259    28]\n",
      " [    1    76    85     1    18   188    13]\n",
      " [    0    13     6   111    14   119     6]\n",
      " [    1    26    19    21   125   392    14]\n",
      " [    5    79    75    29    91 17680    59]\n",
      " [    0    18    14    10    15   252   101]]\n"
     ]
    }
   ],
   "source": [
    "print(confusion_matrix(y_test, y_pred))"
   ]
  },
  {
   "cell_type": "markdown",
   "metadata": {},
   "source": [
    "# Prueba XGB"
   ]
  },
  {
   "cell_type": "code",
   "execution_count": 16,
   "metadata": {},
   "outputs": [],
   "source": [
    "data = pd.concat([train,test], sort=False)\n",
    "data['CADASTRALQUALITYID'] = data['CADASTRALQUALITYID'].astype(np.int)\n",
    "ncol = sc.fit_transform((data['CADASTRALQUALITYID'].values).reshape(-1,1))\n",
    "data['CADASTRALQUALITYID'] = ncol\n",
    "\n",
    "train, test = data.iloc[:train.shape[0], ], data.iloc[train.shape[0]:, ]"
   ]
  },
  {
   "cell_type": "code",
   "execution_count": 17,
   "metadata": {},
   "outputs": [],
   "source": [
    "model = XGBClassifier(n_jobs=-1)\n",
    "\n",
    "model.fit(train, y_train)\n",
    "\n",
    "y_pred = model.predict(test)"
   ]
  },
  {
   "cell_type": "code",
   "execution_count": 18,
   "metadata": {},
   "outputs": [
    {
     "data": {
      "text/plain": [
       "0.8994962704640124"
      ]
     },
     "execution_count": 18,
     "metadata": {},
     "output_type": "execute_result"
    }
   ],
   "source": [
    "accuracy_score(y_test, y_pred)"
   ]
  },
  {
   "cell_type": "code",
   "execution_count": 19,
   "metadata": {},
   "outputs": [
    {
     "name": "stdout",
     "output_type": "stream",
     "text": [
      "              precision    recall  f1-score   support\n",
      "\n",
      " AGRICULTURE     0.8649    0.4000    0.5470        80\n",
      "  INDUSTRIAL     0.6762    0.4792    0.5609       889\n",
      "      OFFICE     0.4667    0.0183    0.0353       382\n",
      "       OTHER     0.5942    0.3048    0.4029       269\n",
      "      PUBLIC     0.5260    0.1355    0.2154       598\n",
      " RESIDENTIAL     0.9126    0.9944    0.9518     18018\n",
      "      RETAIL     0.6410    0.0610    0.1114       410\n",
      "\n",
      "    accuracy                         0.8995     20646\n",
      "   macro avg     0.6688    0.3419    0.4035     20646\n",
      "weighted avg     0.8733    0.8995    0.8713     20646\n",
      "\n"
     ]
    }
   ],
   "source": [
    "print(classification_report(y_test, y_pred, digits=4))"
   ]
  },
  {
   "cell_type": "code",
   "execution_count": 20,
   "metadata": {
    "scrolled": false
   },
   "outputs": [
    {
     "name": "stdout",
     "output_type": "stream",
     "text": [
      "[[   32    10     0     0     2    36     0]\n",
      " [    1   426     3     8     9   433     9]\n",
      " [    0    68     7     3    13   290     1]\n",
      " [    0    20     1    82    14   152     0]\n",
      " [    1    23     1    19    81   471     2]\n",
      " [    2    49     1    25    21 17918     2]\n",
      " [    1    34     2     1    14   333    25]]\n"
     ]
    }
   ],
   "source": [
    "print(confusion_matrix(y_test, y_pred))"
   ]
  },
  {
   "cell_type": "code",
   "execution_count": null,
   "metadata": {},
   "outputs": [],
   "source": []
  }
 ],
 "metadata": {
  "kernelspec": {
   "display_name": "Python (py)",
   "language": "python",
   "name": "myenv"
  },
  "language_info": {
   "codemirror_mode": {
    "name": "ipython",
    "version": 3
   },
   "file_extension": ".py",
   "mimetype": "text/x-python",
   "name": "python",
   "nbconvert_exporter": "python",
   "pygments_lexer": "ipython3",
   "version": "3.7.4"
  }
 },
 "nbformat": 4,
 "nbformat_minor": 2
}

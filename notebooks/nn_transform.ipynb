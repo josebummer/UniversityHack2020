{
 "cells": [
  {
   "cell_type": "code",
   "execution_count": 1,
   "metadata": {
    "collapsed": true,
    "pycharm": {
     "is_executing": false
    }
   },
   "outputs": [
    {
     "name": "stdout",
     "text": [
      "1 Physical GPUs, 1 Logical GPUs\n"
     ],
     "output_type": "stream"
    }
   ],
   "source": [
    "import numpy as np\n",
    "import pandas as pd\n",
    "import tensorflow as tf\n",
    "\n",
    "gpus = tf.config.experimental.list_physical_devices('GPU')\n",
    "\n",
    "if gpus:\n",
    "    try:\n",
    "        # Currently, memory growth needs to be the same across GPUs\n",
    "        for gpu in gpus:\n",
    "            tf.config.experimental.set_memory_growth(gpu, True)\n",
    "        logical_gpus = tf.config.experimental.list_logical_devices('GPU')\n",
    "        print(len(gpus), \"Physical GPUs,\", len(logical_gpus), \"Logical GPUs\")\n",
    "    except RuntimeError as e:\n",
    "        # Memory growth must be set before GPUs have been initialized\n",
    "        print(e)\n",
    "        \n",
    "from tensorflow.keras import layers"
   ]
  },
  {
   "cell_type": "code",
   "execution_count": 2,
   "outputs": [],
   "source": [
    "from sklearn.metrics import classification_report\n",
    "from sklearn.model_selection import StratifiedKFold\n",
    "from sklearn.preprocessing import StandardScaler, LabelEncoder\n",
    "\n",
    "import matplotlib.pyplot as plt\n",
    "import seaborn as sns"
   ],
   "metadata": {
    "collapsed": false,
    "pycharm": {
     "name": "#%%\n",
     "is_executing": false
    }
   }
  },
  {
   "cell_type": "code",
   "execution_count": 282,
   "outputs": [],
   "source": [
    "# Load data\n",
    "data = pd.read_csv('../src/data/train.txt', sep='|', index_col='ID')\n",
    "cols_rgbn = [k for k in data.columns if \"Q_\" in k]\n",
    "cols_geom = [k for k in data.columns if \"GEOM_\" in k]\n",
    "x_rgbn = data[cols_rgbn].to_numpy()\n",
    "x_geom = data[cols_geom].to_numpy()\n",
    "y = data.CLASE\n",
    "cv = list(StratifiedKFold(n_splits=5,shuffle=True,random_state=27).split(x_rgbn,y))\n",
    "\n",
    "# Load test data\n",
    "data_ts = pd.read_csv('../src/data/test.txt', sep='|', index_col='ID')\n",
    "cols_rgbn_ts = [k for k in data_ts.columns if \"Q_\" in k]\n",
    "cols_geom_ts = [k for k in data_ts.columns if \"GEOM_\" in k]\n",
    "x_rgbn_ts = data_ts[cols_rgbn_ts].to_numpy()\n",
    "x_geom_ts = data_ts[cols_geom_ts].to_numpy()\n",
    "\n",
    "# Label encoder\n",
    "CLASES = np.array([\"AGRICULTURE\",\"INDUSTRIAL\",\"OFFICE\",\"OTHER\",\"PUBLIC\",\"RESIDENTIAL\",\"RETAIL\"])\n",
    "le = LabelEncoder()\n",
    "le.classes_ = CLASES\n",
    "\n",
    "# Preprocess data\n",
    "se = StandardScaler()\n",
    "x_rgbn = se.fit_transform(x_rgbn)\n",
    "x_rgbn = x_rgbn.reshape([-1,4,11]).transpose((0,2,1)).astype(np.float32)\n",
    "x_rgbn_ts = se.transform(x_rgbn_ts)\n",
    "x_rgbn_ts = x_rgbn_ts.reshape([-1,4,11]).transpose((0,2,1)).astype(np.float32)\n",
    "\n",
    "# remove tail\n",
    "x_geom[:,1:] = np.log(x_geom[:,1:])\n",
    "x_geom = se.fit_transform(x_geom).astype(np.float32)\n",
    "x_geom_ts[:,1:] = np.log(x_geom_ts[:,1:])\n",
    "x_geom_ts = se.fit_transform(x_geom_ts).astype(np.float32)\n",
    "\n",
    "y = le.transform(y).astype(np.int)\n",
    "\n",
    "# Load weights\n",
    "class_weights = np.array([6.70728866e-05, 4.67005895e-05, 4.23643404e-05,\n",
    "                 3.93773275e-05, 3.59519519e-05, 4.81255214e-06,\n",
    "                 4.62474103e-05])\n",
    "y_weights = class_weights[y]"
   ],
   "metadata": {
    "collapsed": false,
    "pycharm": {
     "name": "#%%\n",
     "is_executing": false
    }
   }
  },
  {
   "cell_type": "code",
   "execution_count": 287,
   "outputs": [
    {
     "data": {
      "text/plain": "((103230, 11, 4),\n (5618, 11, 4),\n array([[ 7.48305917e-10, -1.62594871e-09, -1.84766891e-09,\n          4.65612571e-09],\n        [-2.88236346e-09,  1.40422840e-09, -7.39067585e-10,\n         -4.32354508e-09],\n        [-3.69533779e-11,  1.44118173e-09, -6.42988773e-09,\n         -1.10860134e-10],\n        [-2.88236346e-09,  4.13877821e-09, -5.76472692e-09,\n          1.58899527e-09],\n        [-8.49927684e-10, -4.06487177e-10, -3.73229136e-09,\n          1.20098476e-09],\n        [ 2.95627023e-10, -3.69533792e-10,  2.66064326e-09,\n          5.52453017e-09],\n        [-7.39067557e-11,  8.86881069e-10, -7.39067557e-11,\n         -3.14103721e-09],\n        [-7.39067585e-10,  1.47813511e-10,  1.62594871e-09,\n          1.16403143e-09],\n        [ 2.51282972e-09, -1.77376214e-09,  7.39067557e-11,\n          1.47813511e-10],\n        [ 4.17573176e-09, -1.47813517e-09,  2.58673638e-10,\n          1.82919224e-09],\n        [ 2.25415620e-09, -2.40196951e-09, -2.49435295e-09,\n         -2.84541013e-09]], dtype=float32),\n array([[ 0.00073273,  0.04444279, -0.05995414,  0.06246359],\n        [ 0.10659929,  0.11660176, -0.02686548,  0.12712744],\n        [ 0.08622554,  0.10742892, -0.00309281,  0.11860359],\n        [ 0.07652007,  0.10918426,  0.02045754,  0.11409924],\n        [ 0.07319737,  0.11589964,  0.05231618,  0.11097237],\n        [ 0.07950489,  0.12983134,  0.09447059,  0.10659913],\n        [ 0.09408697,  0.1494454 ,  0.14380822,  0.1030727 ],\n        [ 0.11534224,  0.1713062 ,  0.19123407,  0.09993251],\n        [ 0.14039649,  0.19271684,  0.23149644,  0.09466211],\n        [ 0.16701855,  0.20904464,  0.24588493,  0.07722095],\n        [ 0.02738124,  0.01823547,  0.09073468,  0.00560953]],\n       dtype=float32))"
     },
     "metadata": {},
     "output_type": "execute_result",
     "execution_count": 287
    }
   ],
   "source": [
    "# x_geom.shape,x_geom_ts.shape,\\\n",
    "# x_geom.mean(0),x_geom_ts.mean(0),\\\n",
    "# x_rgbn.shape,x_rgbn_ts.shape,\\\n",
    "# x_rgbn.mean(0),x_rgbn_ts.mean(0)"
   ],
   "metadata": {
    "collapsed": false,
    "pycharm": {
     "name": "#%%\n",
     "is_executing": false
    }
   }
  },
  {
   "cell_type": "code",
   "execution_count": 275,
   "outputs": [],
   "source": [
    "def make_model():\n",
    "    leaky_relu = tf.keras.layers.LeakyReLU()\n",
    "    \n",
    "    cnn_rgba = tf.keras.Sequential([\n",
    "        layers.Conv1D(64,kernel_size=3,activation=leaky_relu, input_shape=x_rgbn.shape[1:],kernel_regularizer='l2'),\n",
    "        layers.Conv1D(128,kernel_size=3,activation=leaky_relu,use_bias=False),\n",
    "        layers.BatchNormalization(),\n",
    "        layers.Conv1D(64,kernel_size=3,activation=leaky_relu,kernel_regularizer='l2'),\n",
    "        layers.Conv1D(32,kernel_size=3,activation=leaky_relu,use_bias=False),\n",
    "        \n",
    "        layers.BatchNormalization(),\n",
    "        layers.Conv1D(32,kernel_size=3,activation=leaky_relu,kernel_regularizer='l2'),\n",
    "        layers.Flatten(),\n",
    "        layers.Dense(20,activation=leaky_relu),\n",
    "        layers.Dense(14,activation=leaky_relu),\n",
    "        layers.BatchNormalization()\n",
    "    ])\n",
    "    \n",
    "    nn_geom = tf.keras.Sequential([\n",
    "        layers.Dense(17,activation=leaky_relu,input_shape=x_geom.shape[1:]),\n",
    "        layers.Dense(8,activation=leaky_relu),\n",
    "        layers.BatchNormalization(),\n",
    "    ])\n",
    "    \n",
    "    conc = tf.keras.layers.concatenate([cnn_rgba.output,nn_geom.output])\n",
    "    \n",
    "    final = layers.Dense(15,activation=leaky_relu)(conc)\n",
    "    final = layers.Dense(12,activation=leaky_relu)(final)\n",
    "    final = layers.Dense(10,activation=leaky_relu)(final)\n",
    "    final = layers.Dense(le.classes_.size,activation='softmax')(final)\n",
    "    \n",
    "    model = tf.keras.Model(inputs=(cnn_rgba.input,nn_geom.input), outputs=final)\n",
    "    \n",
    "    return model\n",
    "model = make_model()"
   ],
   "metadata": {
    "collapsed": false,
    "pycharm": {
     "name": "#%%\n",
     "is_executing": false
    }
   }
  },
  {
   "cell_type": "code",
   "execution_count": 276,
   "outputs": [
    {
     "name": "stdout",
     "text": [
      "              precision    recall  f1-score   support\n",
      "\n",
      "           0       0.75      0.79      0.77 0.0044938834022\n",
      "           1       0.66      0.65      0.65 0.04193712937100053\n",
      "           2       0.38      0.23      0.29 0.015505348586399927\n",
      "           3       0.52      0.41      0.46 0.010474369115\n",
      "           4       0.45      0.35      0.40 0.021391411380499676\n",
      "           5       0.68      0.91      0.78 0.08679437784486937\n",
      "           6       0.45      0.09      0.15 0.01937766491570008\n",
      "\n",
      "    accuracy                           0.63 0.19997418461566957\n",
      "   macro avg       0.56      0.49      0.50 0.19997418461566957\n",
      "weighted avg       0.60      0.63      0.60 0.19997418461566957\n",
      "\n"
     ],
     "output_type": "stream"
    }
   ],
   "source": [
    "tr_idx,ts_idx = cv[0]\n",
    "h1 = model.fit(\n",
    "    x=[x_rgbn[tr_idx],x_geom[tr_idx]],\n",
    "    y=y[tr_idx],\n",
    "    validation_data=([x_rgbn[ts_idx],x_geom[ts_idx]],y[ts_idx],y_weights[ts_idx]*1e5),\n",
    "    batch_size=4096,\n",
    "    epochs=200,\n",
    "    initial_epoch=0,\n",
    "    sample_weight=y_weights[tr_idx]*1e5,\n",
    "    verbose=0)\n",
    "\n",
    "yp = model.predict([x_rgbn[ts_idx],x_geom[ts_idx]],batch_size=2048)\n",
    "yp_c = yp.argmax(1)\n",
    "print(classification_report(y[ts_idx],yp_c, sample_weight=y_weights[ts_idx]))"
   ],
   "metadata": {
    "collapsed": false,
    "pycharm": {
     "name": "#%%\n",
     "is_executing": false
    }
   }
  },
  {
   "cell_type": "code",
   "execution_count": 343,
   "outputs": [],
   "source": [
    "EPOCHS = 200\n",
    "# predict train\n",
    "sepa_x_total = np.zeros((x_rgbn.shape[0],22*6))\n",
    "join_x_total = np.zeros((x_rgbn.shape[0],10*6))\n",
    "prob_x_total = np.zeros((x_rgbn.shape[0],le.classes_.size*6))\n",
    "hs = []\n",
    "for i, (tr_idx, ts_idx) in enumerate(cv):\n",
    "    sepa_x = np.zeros((x_rgbn.shape[0],22))\n",
    "    join_x = np.zeros((x_rgbn.shape[0],10))\n",
    "    prob_x = np.zeros((x_rgbn.shape[0],le.classes_.size))\n",
    "    \n",
    "    model = make_model()\n",
    "    \n",
    "    BATCH_SIZE = 4096\n",
    "    EPOCHS_DECAY_RATE = 66 \n",
    "    SAMPLE_SIZE = cv[0][0].size\n",
    "    \n",
    "    lr_sched = tf.keras.optimizers.schedules.ExponentialDecay(\n",
    "        initial_learning_rate=1e-3,\n",
    "        decay_steps=np.float((SAMPLE_SIZE//BATCH_SIZE)*EPOCHS_DECAY_RATE),\n",
    "        decay_rate=0.5,\n",
    "    )\n",
    "    optim = tf.keras.optimizers.Adam(learning_rate=lr_sched)\n",
    "    model.compile(\n",
    "        optimizer=optim,\n",
    "        loss='sparse_categorical_crossentropy',\n",
    "        metrics=['accuracy','sparse_categorical_crossentropy']\n",
    "    )\n",
    "    \n",
    "    h = model.fit(\n",
    "        x=[x_rgbn[tr_idx],x_geom[tr_idx]],\n",
    "        y=y[tr_idx],\n",
    "        validation_data=([x_rgbn[ts_idx],x_geom[ts_idx]],y[ts_idx],y_weights[ts_idx]*1e5),\n",
    "        batch_size=BATCH_SIZE,\n",
    "        epochs=EPOCHS,\n",
    "        initial_epoch=0,\n",
    "        sample_weight=y_weights[tr_idx]*1e5,\n",
    "        verbose=0)\n",
    "    hs.append(h.history)\n",
    "    \n",
    "    yp = model.predict([x_rgbn,x_geom],batch_size=4096)\n",
    "    prob_x_total[:,prob_x.shape[1]*i:prob_x.shape[1]*(i+1)] = yp\n",
    "    \n",
    "    cc_sep = tf.keras.Model(inputs=model.inputs,outputs=model.layers[-5].output)\n",
    "    cc_sep_x = cc_sep.predict([x_rgbn,x_geom],batch_size=4096)\n",
    "    sepa_x_total[:,sepa_x.shape[1]*i:sepa_x.shape[1]*(i+1)] = cc_sep_x\n",
    "    \n",
    "    cc_join = tf.keras.Model(inputs=model.inputs,outputs=model.layers[-2].output)\n",
    "    cc_join_x = cc_join.predict([x_rgbn,x_geom],batch_size=4096)\n",
    "    join_x_total[:,join_x.shape[1]*i:join_x.shape[1]*(i+1)] = cc_join_x\n",
    "    \n",
    "# predict test\n",
    "model = make_model()\n",
    "\n",
    "BATCH_SIZE = 4096\n",
    "EPOCHS_DECAY_RATE = 66 \n",
    "SAMPLE_SIZE = x_rgbn.shape[0]\n",
    "\n",
    "lr_sched = tf.keras.optimizers.schedules.ExponentialDecay(\n",
    "    initial_learning_rate=1e-3,\n",
    "    decay_steps=np.float((SAMPLE_SIZE//BATCH_SIZE)*EPOCHS_DECAY_RATE),\n",
    "    decay_rate=0.5,\n",
    ")\n",
    "optim = tf.keras.optimizers.Adam(learning_rate=lr_sched)\n",
    "model.compile(\n",
    "    optimizer=optim,\n",
    "    loss='sparse_categorical_crossentropy',\n",
    "    metrics=['accuracy','sparse_categorical_crossentropy']\n",
    ")\n",
    "\n",
    "h = model.fit(\n",
    "        x=[x_rgbn,x_geom],\n",
    "        y=y,\n",
    "        batch_size=4096,\n",
    "        epochs=EPOCHS,\n",
    "        initial_epoch=0,\n",
    "        sample_weight=y_weights*1e5,\n",
    "        verbose=0)\n",
    "hs.append(h.history)\n",
    "    \n",
    "yp = model.predict([x_rgbn,x_geom],batch_size=4096)\n",
    "prob_x_total[:,-prob_x.shape[1]:] = yp\n",
    "yp = model.predict([x_rgbn_ts,x_geom_ts],batch_size=4096)\n",
    "prob_x_ts = yp\n",
    "\n",
    "\n",
    "cc_sep = tf.keras.Model(inputs=model.inputs,outputs=model.layers[-5].output)\n",
    "cc_sep_x = cc_sep.predict([x_rgbn,x_geom],batch_size=4096)\n",
    "sepa_x_total[:,-cc_sep_x.shape[1]:] = cc_sep_x\n",
    "cc_sep_x = cc_sep.predict([x_rgbn_ts,x_geom_ts],batch_size=4096)\n",
    "sepa_x_ts = cc_sep_x\n",
    "\n",
    "cc_join = tf.keras.Model(inputs=model.inputs,outputs=model.layers[-2].output)\n",
    "cc_join_x = cc_join.predict([x_rgbn,x_geom],batch_size=4096)\n",
    "join_x_total[:,-cc_join_x.shape[1]:] = cc_join_x\n",
    "cc_join_x = cc_join.predict([x_rgbn_ts,x_geom_ts],batch_size=4096)\n",
    "join_x_ts = cc_join_x\n",
    "\n",
    "# Save results\n",
    "\n",
    "def make_single_colnames(l):\n",
    "    return [w.format(i) for (w,c) in l for i in range(c)]\n",
    "def make_colnames(l):\n",
    "    return [w.format(i)+v for (w,c) in l for v in ['_VAL_0','_VAL_1','_VAL_2','_VAL_3','_VAL_4','_TOTAL'] for i in range(c)]\n",
    "\n",
    "df = pd.DataFrame(\n",
    "    np.concatenate([sepa_x_total,join_x_total,prob_x_total],axis=1),\n",
    "    index=data.index,\n",
    "    #14,8,10,7\n",
    "    columns=make_colnames([(\"RGBA_{}\",14),(\"GEOM_{}\",8),(\"JOIN_{}\",10),(\"PROB_{}\",7)]))\n",
    "df['CLASE'] = le.inverse_transform(y).reshape(-1,1)\n",
    "\n",
    "cv_idx = np.zeros(y.size)\n",
    "for i,c in enumerate(cv):\n",
    "    cv_idx[c[1]] = i\n",
    "df['cv_idx'] = cv_idx\n",
    "\n",
    "df.to_csv(\"../src/data/train_NN.txt\", sep=\"|\")\n",
    "\n",
    "    \n",
    "\n",
    "df = pd.DataFrame(\n",
    "    np.concatenate([sepa_x_ts,join_x_ts,prob_x_ts],axis=1),\n",
    "    index=data_ts.index,\n",
    "    columns=make_single_colnames([(\"RGBA_{}\",14),(\"GEOM_{}\",8),(\"JOIN_{}\",10),(\"PROB_{}\",7)]))\n",
    "df.to_csv(\"../src/data/test_NN.txt\", sep=\"|\")\n",
    "\n",
    "import pickle\n",
    "with open('../src/data/history_NN.txt','wb') as ofile:\n",
    "    pickle.dump(hs,ofile)"
   ],
   "metadata": {
    "collapsed": false,
    "pycharm": {
     "name": "#%%\n",
     "is_executing": false
    }
   }
  },
  {
   "cell_type": "code",
   "execution_count": 336,
   "outputs": [
    {
     "data": {
      "text/plain": "['RGBA_0_VAL_0',\n 'RGBA_1_VAL_0',\n 'RGBA_2_VAL_0',\n 'RGBA_3_VAL_0',\n 'RGBA_4_VAL_0',\n 'RGBA_5_VAL_0',\n 'RGBA_6_VAL_0',\n 'RGBA_7_VAL_0',\n 'RGBA_8_VAL_0',\n 'RGBA_9_VAL_0',\n 'RGBA_10_VAL_0',\n 'RGBA_11_VAL_0',\n 'RGBA_12_VAL_0',\n 'RGBA_13_VAL_0',\n 'RGBA_0_VAL_1',\n 'RGBA_1_VAL_1',\n 'RGBA_2_VAL_1',\n 'RGBA_3_VAL_1',\n 'RGBA_4_VAL_1',\n 'RGBA_5_VAL_1',\n 'RGBA_6_VAL_1',\n 'RGBA_7_VAL_1',\n 'RGBA_8_VAL_1',\n 'RGBA_9_VAL_1',\n 'RGBA_10_VAL_1',\n 'RGBA_11_VAL_1',\n 'RGBA_12_VAL_1',\n 'RGBA_13_VAL_1',\n 'RGBA_0_VAL_2',\n 'RGBA_1_VAL_2',\n 'RGBA_2_VAL_2',\n 'RGBA_3_VAL_2',\n 'RGBA_4_VAL_2',\n 'RGBA_5_VAL_2',\n 'RGBA_6_VAL_2',\n 'RGBA_7_VAL_2',\n 'RGBA_8_VAL_2',\n 'RGBA_9_VAL_2',\n 'RGBA_10_VAL_2',\n 'RGBA_11_VAL_2',\n 'RGBA_12_VAL_2',\n 'RGBA_13_VAL_2',\n 'RGBA_0_VAL_3',\n 'RGBA_1_VAL_3',\n 'RGBA_2_VAL_3',\n 'RGBA_3_VAL_3',\n 'RGBA_4_VAL_3',\n 'RGBA_5_VAL_3',\n 'RGBA_6_VAL_3',\n 'RGBA_7_VAL_3',\n 'RGBA_8_VAL_3',\n 'RGBA_9_VAL_3',\n 'RGBA_10_VAL_3',\n 'RGBA_11_VAL_3',\n 'RGBA_12_VAL_3',\n 'RGBA_13_VAL_3',\n 'RGBA_0_VAL_4',\n 'RGBA_1_VAL_4',\n 'RGBA_2_VAL_4',\n 'RGBA_3_VAL_4',\n 'RGBA_4_VAL_4',\n 'RGBA_5_VAL_4',\n 'RGBA_6_VAL_4',\n 'RGBA_7_VAL_4',\n 'RGBA_8_VAL_4',\n 'RGBA_9_VAL_4',\n 'RGBA_10_VAL_4',\n 'RGBA_11_VAL_4',\n 'RGBA_12_VAL_4',\n 'RGBA_13_VAL_4',\n 'RGBA_0_TOTAL',\n 'RGBA_1_TOTAL',\n 'RGBA_2_TOTAL',\n 'RGBA_3_TOTAL',\n 'RGBA_4_TOTAL',\n 'RGBA_5_TOTAL',\n 'RGBA_6_TOTAL',\n 'RGBA_7_TOTAL',\n 'RGBA_8_TOTAL',\n 'RGBA_9_TOTAL',\n 'RGBA_10_TOTAL',\n 'RGBA_11_TOTAL',\n 'RGBA_12_TOTAL',\n 'RGBA_13_TOTAL',\n 'GEOM_0_VAL_0',\n 'GEOM_1_VAL_0',\n 'GEOM_2_VAL_0',\n 'GEOM_3_VAL_0',\n 'GEOM_4_VAL_0',\n 'GEOM_5_VAL_0',\n 'GEOM_6_VAL_0',\n 'GEOM_7_VAL_0',\n 'GEOM_0_VAL_1',\n 'GEOM_1_VAL_1',\n 'GEOM_2_VAL_1',\n 'GEOM_3_VAL_1',\n 'GEOM_4_VAL_1',\n 'GEOM_5_VAL_1',\n 'GEOM_6_VAL_1',\n 'GEOM_7_VAL_1',\n 'GEOM_0_VAL_2',\n 'GEOM_1_VAL_2',\n 'GEOM_2_VAL_2',\n 'GEOM_3_VAL_2',\n 'GEOM_4_VAL_2',\n 'GEOM_5_VAL_2',\n 'GEOM_6_VAL_2',\n 'GEOM_7_VAL_2',\n 'GEOM_0_VAL_3',\n 'GEOM_1_VAL_3',\n 'GEOM_2_VAL_3',\n 'GEOM_3_VAL_3',\n 'GEOM_4_VAL_3',\n 'GEOM_5_VAL_3',\n 'GEOM_6_VAL_3',\n 'GEOM_7_VAL_3',\n 'GEOM_0_VAL_4',\n 'GEOM_1_VAL_4',\n 'GEOM_2_VAL_4',\n 'GEOM_3_VAL_4',\n 'GEOM_4_VAL_4',\n 'GEOM_5_VAL_4',\n 'GEOM_6_VAL_4',\n 'GEOM_7_VAL_4',\n 'GEOM_0_TOTAL',\n 'GEOM_1_TOTAL',\n 'GEOM_2_TOTAL',\n 'GEOM_3_TOTAL',\n 'GEOM_4_TOTAL',\n 'GEOM_5_TOTAL',\n 'GEOM_6_TOTAL',\n 'GEOM_7_TOTAL',\n 'JOIN_0_VAL_0',\n 'JOIN_1_VAL_0',\n 'JOIN_2_VAL_0',\n 'JOIN_3_VAL_0',\n 'JOIN_4_VAL_0',\n 'JOIN_5_VAL_0',\n 'JOIN_6_VAL_0',\n 'JOIN_7_VAL_0',\n 'JOIN_8_VAL_0',\n 'JOIN_9_VAL_0',\n 'JOIN_0_VAL_1',\n 'JOIN_1_VAL_1',\n 'JOIN_2_VAL_1',\n 'JOIN_3_VAL_1',\n 'JOIN_4_VAL_1',\n 'JOIN_5_VAL_1',\n 'JOIN_6_VAL_1',\n 'JOIN_7_VAL_1',\n 'JOIN_8_VAL_1',\n 'JOIN_9_VAL_1',\n 'JOIN_0_VAL_2',\n 'JOIN_1_VAL_2',\n 'JOIN_2_VAL_2',\n 'JOIN_3_VAL_2',\n 'JOIN_4_VAL_2',\n 'JOIN_5_VAL_2',\n 'JOIN_6_VAL_2',\n 'JOIN_7_VAL_2',\n 'JOIN_8_VAL_2',\n 'JOIN_9_VAL_2',\n 'JOIN_0_VAL_3',\n 'JOIN_1_VAL_3',\n 'JOIN_2_VAL_3',\n 'JOIN_3_VAL_3',\n 'JOIN_4_VAL_3',\n 'JOIN_5_VAL_3',\n 'JOIN_6_VAL_3',\n 'JOIN_7_VAL_3',\n 'JOIN_8_VAL_3',\n 'JOIN_9_VAL_3',\n 'JOIN_0_VAL_4',\n 'JOIN_1_VAL_4',\n 'JOIN_2_VAL_4',\n 'JOIN_3_VAL_4',\n 'JOIN_4_VAL_4',\n 'JOIN_5_VAL_4',\n 'JOIN_6_VAL_4',\n 'JOIN_7_VAL_4',\n 'JOIN_8_VAL_4',\n 'JOIN_9_VAL_4',\n 'JOIN_0_TOTAL',\n 'JOIN_1_TOTAL',\n 'JOIN_2_TOTAL',\n 'JOIN_3_TOTAL',\n 'JOIN_4_TOTAL',\n 'JOIN_5_TOTAL',\n 'JOIN_6_TOTAL',\n 'JOIN_7_TOTAL',\n 'JOIN_8_TOTAL',\n 'JOIN_9_TOTAL',\n 'PROB_0_VAL_0',\n 'PROB_1_VAL_0',\n 'PROB_2_VAL_0',\n 'PROB_3_VAL_0',\n 'PROB_4_VAL_0',\n 'PROB_5_VAL_0',\n 'PROB_6_VAL_0',\n 'PROB_0_VAL_1',\n 'PROB_1_VAL_1',\n 'PROB_2_VAL_1',\n 'PROB_3_VAL_1',\n 'PROB_4_VAL_1',\n 'PROB_5_VAL_1',\n 'PROB_6_VAL_1',\n 'PROB_0_VAL_2',\n 'PROB_1_VAL_2',\n 'PROB_2_VAL_2',\n 'PROB_3_VAL_2',\n 'PROB_4_VAL_2',\n 'PROB_5_VAL_2',\n 'PROB_6_VAL_2',\n 'PROB_0_VAL_3',\n 'PROB_1_VAL_3',\n 'PROB_2_VAL_3',\n 'PROB_3_VAL_3',\n 'PROB_4_VAL_3',\n 'PROB_5_VAL_3',\n 'PROB_6_VAL_3',\n 'PROB_0_VAL_4',\n 'PROB_1_VAL_4',\n 'PROB_2_VAL_4',\n 'PROB_3_VAL_4',\n 'PROB_4_VAL_4',\n 'PROB_5_VAL_4',\n 'PROB_6_VAL_4',\n 'PROB_0_TOTAL',\n 'PROB_1_TOTAL',\n 'PROB_2_TOTAL',\n 'PROB_3_TOTAL',\n 'PROB_4_TOTAL',\n 'PROB_5_TOTAL',\n 'PROB_6_TOTAL']"
     },
     "metadata": {},
     "output_type": "execute_result",
     "execution_count": 336
    }
   ],
   "source": [
    "make_colnames([(\"RGBA_{}\",14),(\"GEOM_{}\",8),(\"JOIN_{}\",10),(\"PROB_{}\",7)])"
   ],
   "metadata": {
    "collapsed": false,
    "pycharm": {
     "name": "#%%\n",
     "is_executing": false
    }
   }
  },
  {
   "cell_type": "code",
   "execution_count": 340,
   "outputs": [
    {
     "data": {
      "text/plain": "<Figure size 432x288 with 1 Axes>",
      "image/png": "[encoded data removed]"
     },
     "metadata": {
      "needs_background": "light"
     },
     "output_type": "display_data"
    }
   ],
   "source": [
    "for h in hs:\n",
    "    if 'val_loss' in h:\n",
    "        plt.plot(h['val_loss'])\n",
    "    plt.plot(h['loss'])\n",
    "# plt.legend([1,2,3,4,5,6])\n",
    "plt.yscale('log')"
   ],
   "metadata": {
    "collapsed": false,
    "pycharm": {
     "name": "#%%\n",
     "is_executing": false
    }
   }
  },
  {
   "cell_type": "code",
   "execution_count": 342,
   "outputs": [
    {
     "data": {
      "text/plain": "                  RGBA_0_VAL_0  RGBA_1_VAL_0  RGBA_2_VAL_0  RGBA_3_VAL_0  \\\nID                                                                         \n35984B9C3E7CD9A1     -0.096031      0.096968     -0.025451     -0.072411   \nF9D04BF6D037F8FB     -0.132915      0.059396     -0.043071      0.040773   \nB89D5711AFF8C423     -0.183661      0.082888     -0.063106     -0.129952   \n1C3478AC1522E7E4     -0.095560      0.061815     -0.180316     -0.146279   \n4D12AA5009064345      0.015255      0.001629     -0.156996     -0.173034   \n...                        ...           ...           ...           ...   \nC5FD596EB22DB167     -0.060495      0.027530     -0.088452     -0.106976   \nA51D42F2EAB0E15E     -0.091187      0.062871      0.026972     -0.014763   \n9B75473FE6396523      0.247702      0.052958      0.235173     -0.013521   \n3E566F8A461FDBA3     -0.122846      0.052674     -0.113352     -0.141642   \n0E6F8A7388F1FF25     -0.106659      0.100091      0.023808     -0.176866   \n\n                  RGBA_4_VAL_0  RGBA_5_VAL_0  RGBA_6_VAL_0  RGBA_7_VAL_0  \\\nID                                                                         \n35984B9C3E7CD9A1      0.081554     -0.043795     -0.019040     -0.000023   \nF9D04BF6D037F8FB      0.011282     -0.065378     -0.016665     -0.024568   \nB89D5711AFF8C423      0.092938      0.012040     -0.036319      0.062238   \n1C3478AC1522E7E4     -0.001434      0.122403     -0.024369     -0.043840   \n4D12AA5009064345     -0.027061     -0.016455     -0.042453      0.139120   \n...                        ...           ...           ...           ...   \nC5FD596EB22DB167     -0.004730     -0.026896     -0.049652      0.118823   \nA51D42F2EAB0E15E      0.086821     -0.068984     -0.034076     -0.059502   \n9B75473FE6396523      0.219809     -0.126160     -0.046940     -0.151154   \n3E566F8A461FDBA3      0.003791     -0.018561     -0.042976      0.103945   \n0E6F8A7388F1FF25      0.227939      0.053895     -0.059686      0.090335   \n\n                  RGBA_8_VAL_0  RGBA_9_VAL_0  ...  PROB_6_VAL_4  PROB_0_TOTAL  \\\nID                                            ...                               \n35984B9C3E7CD9A1     -0.037227      0.052280  ...      0.130999      0.120024   \nF9D04BF6D037F8FB     -0.039954      0.028095  ...      0.129412      0.093406   \nB89D5711AFF8C423     -0.031643      0.082616  ...      0.129154      0.123308   \n1C3478AC1522E7E4     -0.047323      0.045441  ...      0.133436      0.139825   \n4D12AA5009064345     -0.041895      0.085724  ...      0.134056      0.130227   \n...                        ...           ...  ...           ...           ...   \nC5FD596EB22DB167     -0.047279      0.064351  ...      0.126046      0.133475   \nA51D42F2EAB0E15E     -0.006434      0.031368  ...      0.128423      0.121074   \n9B75473FE6396523      0.262305     -0.025982  ...      0.138693      0.106232   \n3E566F8A461FDBA3     -0.036428      0.072564  ...      0.128406      0.127457   \n0E6F8A7388F1FF25     -0.020704      0.101042  ...      0.131898      0.131081   \n\n                  PROB_1_TOTAL  PROB_2_TOTAL  PROB_3_TOTAL  PROB_4_TOTAL  \\\nID                                                                         \n35984B9C3E7CD9A1      0.192381      0.083408      0.092246      0.129681   \nF9D04BF6D037F8FB      0.234615      0.055051      0.057928      0.110943   \nB89D5711AFF8C423      0.178743      0.097137      0.107557      0.137985   \n1C3478AC1522E7E4      0.164564      0.108641      0.106748      0.134553   \n4D12AA5009064345      0.162637      0.141354      0.130291      0.144016   \n...                        ...           ...           ...           ...   \nC5FD596EB22DB167      0.166884      0.100385      0.113117      0.135003   \nA51D42F2EAB0E15E      0.194629      0.082870      0.086162      0.118600   \n9B75473FE6396523      0.222061      0.125454      0.095599      0.122009   \n3E566F8A461FDBA3      0.174461      0.105774      0.110990      0.136071   \n0E6F8A7388F1FF25      0.161332      0.105684      0.122818      0.144666   \n\n                  PROB_5_TOTAL  PROB_6_TOTAL        CLASE  cv_idx  \nID                                                                 \n35984B9C3E7CD9A1      0.222434      0.159827  RESIDENTIAL     4.0  \nF9D04BF6D037F8FB      0.281226      0.166831  RESIDENTIAL     1.0  \nB89D5711AFF8C423      0.204515      0.150755  RESIDENTIAL     4.0  \n1C3478AC1522E7E4      0.192885      0.152783  RESIDENTIAL     3.0  \n4D12AA5009064345      0.152033      0.139441  RESIDENTIAL     4.0  \n...                        ...           ...          ...     ...  \nC5FD596EB22DB167      0.196789      0.154347  RESIDENTIAL     3.0  \nA51D42F2EAB0E15E      0.230112      0.166553  RESIDENTIAL     0.0  \n9B75473FE6396523      0.184002      0.144643   INDUSTRIAL     4.0  \n3E566F8A461FDBA3      0.193305      0.151943  RESIDENTIAL     2.0  \n0E6F8A7388F1FF25      0.188166      0.146253  RESIDENTIAL     0.0  \n\n[103230 rows x 236 columns]",
      "text/html": "<div>\n<style scoped>\n    .dataframe tbody tr th:only-of-type {\n        vertical-align: middle;\n    }\n\n    .dataframe tbody tr th {\n        vertical-align: top;\n    }\n\n    .dataframe thead th {\n        text-align: right;\n    }\n</style>\n<table border=\"1\" class=\"dataframe\">\n  <thead>\n    <tr style=\"text-align: right;\">\n      <th></th>\n      <th>RGBA_0_VAL_0</th>\n      <th>RGBA_1_VAL_0</th>\n      <th>RGBA_2_VAL_0</th>\n      <th>RGBA_3_VAL_0</th>\n      <th>RGBA_4_VAL_0</th>\n      <th>RGBA_5_VAL_0</th>\n      <th>RGBA_6_VAL_0</th>\n      <th>RGBA_7_VAL_0</th>\n      <th>RGBA_8_VAL_0</th>\n      <th>RGBA_9_VAL_0</th>\n      <th>...</th>\n      <th>PROB_6_VAL_4</th>\n      <th>PROB_0_TOTAL</th>\n      <th>PROB_1_TOTAL</th>\n      <th>PROB_2_TOTAL</th>\n      <th>PROB_3_TOTAL</th>\n      <th>PROB_4_TOTAL</th>\n      <th>PROB_5_TOTAL</th>\n      <th>PROB_6_TOTAL</th>\n      <th>CLASE</th>\n      <th>cv_idx</th>\n    </tr>\n    <tr>\n      <th>ID</th>\n      <th></th>\n      <th></th>\n      <th></th>\n      <th></th>\n      <th></th>\n      <th></th>\n      <th></th>\n      <th></th>\n      <th></th>\n      <th></th>\n      <th></th>\n      <th></th>\n      <th></th>\n      <th></th>\n      <th></th>\n      <th></th>\n      <th></th>\n      <th></th>\n      <th></th>\n      <th></th>\n      <th></th>\n    </tr>\n  </thead>\n  <tbody>\n    <tr>\n      <th>35984B9C3E7CD9A1</th>\n      <td>-0.096031</td>\n      <td>0.096968</td>\n      <td>-0.025451</td>\n      <td>-0.072411</td>\n      <td>0.081554</td>\n      <td>-0.043795</td>\n      <td>-0.019040</td>\n      <td>-0.000023</td>\n      <td>-0.037227</td>\n      <td>0.052280</td>\n      <td>...</td>\n      <td>0.130999</td>\n      <td>0.120024</td>\n      <td>0.192381</td>\n      <td>0.083408</td>\n      <td>0.092246</td>\n      <td>0.129681</td>\n      <td>0.222434</td>\n      <td>0.159827</td>\n      <td>RESIDENTIAL</td>\n      <td>4.0</td>\n    </tr>\n    <tr>\n      <th>F9D04BF6D037F8FB</th>\n      <td>-0.132915</td>\n      <td>0.059396</td>\n      <td>-0.043071</td>\n      <td>0.040773</td>\n      <td>0.011282</td>\n      <td>-0.065378</td>\n      <td>-0.016665</td>\n      <td>-0.024568</td>\n      <td>-0.039954</td>\n      <td>0.028095</td>\n      <td>...</td>\n      <td>0.129412</td>\n      <td>0.093406</td>\n      <td>0.234615</td>\n      <td>0.055051</td>\n      <td>0.057928</td>\n      <td>0.110943</td>\n      <td>0.281226</td>\n      <td>0.166831</td>\n      <td>RESIDENTIAL</td>\n      <td>1.0</td>\n    </tr>\n    <tr>\n      <th>B89D5711AFF8C423</th>\n      <td>-0.183661</td>\n      <td>0.082888</td>\n      <td>-0.063106</td>\n      <td>-0.129952</td>\n      <td>0.092938</td>\n      <td>0.012040</td>\n      <td>-0.036319</td>\n      <td>0.062238</td>\n      <td>-0.031643</td>\n      <td>0.082616</td>\n      <td>...</td>\n      <td>0.129154</td>\n      <td>0.123308</td>\n      <td>0.178743</td>\n      <td>0.097137</td>\n      <td>0.107557</td>\n      <td>0.137985</td>\n      <td>0.204515</td>\n      <td>0.150755</td>\n      <td>RESIDENTIAL</td>\n      <td>4.0</td>\n    </tr>\n    <tr>\n      <th>1C3478AC1522E7E4</th>\n      <td>-0.095560</td>\n      <td>0.061815</td>\n      <td>-0.180316</td>\n      <td>-0.146279</td>\n      <td>-0.001434</td>\n      <td>0.122403</td>\n      <td>-0.024369</td>\n      <td>-0.043840</td>\n      <td>-0.047323</td>\n      <td>0.045441</td>\n      <td>...</td>\n      <td>0.133436</td>\n      <td>0.139825</td>\n      <td>0.164564</td>\n      <td>0.108641</td>\n      <td>0.106748</td>\n      <td>0.134553</td>\n      <td>0.192885</td>\n      <td>0.152783</td>\n      <td>RESIDENTIAL</td>\n      <td>3.0</td>\n    </tr>\n    <tr>\n      <th>4D12AA5009064345</th>\n      <td>0.015255</td>\n      <td>0.001629</td>\n      <td>-0.156996</td>\n      <td>-0.173034</td>\n      <td>-0.027061</td>\n      <td>-0.016455</td>\n      <td>-0.042453</td>\n      <td>0.139120</td>\n      <td>-0.041895</td>\n      <td>0.085724</td>\n      <td>...</td>\n      <td>0.134056</td>\n      <td>0.130227</td>\n      <td>0.162637</td>\n      <td>0.141354</td>\n      <td>0.130291</td>\n      <td>0.144016</td>\n      <td>0.152033</td>\n      <td>0.139441</td>\n      <td>RESIDENTIAL</td>\n      <td>4.0</td>\n    </tr>\n    <tr>\n      <th>...</th>\n      <td>...</td>\n      <td>...</td>\n      <td>...</td>\n      <td>...</td>\n      <td>...</td>\n      <td>...</td>\n      <td>...</td>\n      <td>...</td>\n      <td>...</td>\n      <td>...</td>\n      <td>...</td>\n      <td>...</td>\n      <td>...</td>\n      <td>...</td>\n      <td>...</td>\n      <td>...</td>\n      <td>...</td>\n      <td>...</td>\n      <td>...</td>\n      <td>...</td>\n      <td>...</td>\n    </tr>\n    <tr>\n      <th>C5FD596EB22DB167</th>\n      <td>-0.060495</td>\n      <td>0.027530</td>\n      <td>-0.088452</td>\n      <td>-0.106976</td>\n      <td>-0.004730</td>\n      <td>-0.026896</td>\n      <td>-0.049652</td>\n      <td>0.118823</td>\n      <td>-0.047279</td>\n      <td>0.064351</td>\n      <td>...</td>\n      <td>0.126046</td>\n      <td>0.133475</td>\n      <td>0.166884</td>\n      <td>0.100385</td>\n      <td>0.113117</td>\n      <td>0.135003</td>\n      <td>0.196789</td>\n      <td>0.154347</td>\n      <td>RESIDENTIAL</td>\n      <td>3.0</td>\n    </tr>\n    <tr>\n      <th>A51D42F2EAB0E15E</th>\n      <td>-0.091187</td>\n      <td>0.062871</td>\n      <td>0.026972</td>\n      <td>-0.014763</td>\n      <td>0.086821</td>\n      <td>-0.068984</td>\n      <td>-0.034076</td>\n      <td>-0.059502</td>\n      <td>-0.006434</td>\n      <td>0.031368</td>\n      <td>...</td>\n      <td>0.128423</td>\n      <td>0.121074</td>\n      <td>0.194629</td>\n      <td>0.082870</td>\n      <td>0.086162</td>\n      <td>0.118600</td>\n      <td>0.230112</td>\n      <td>0.166553</td>\n      <td>RESIDENTIAL</td>\n      <td>0.0</td>\n    </tr>\n    <tr>\n      <th>9B75473FE6396523</th>\n      <td>0.247702</td>\n      <td>0.052958</td>\n      <td>0.235173</td>\n      <td>-0.013521</td>\n      <td>0.219809</td>\n      <td>-0.126160</td>\n      <td>-0.046940</td>\n      <td>-0.151154</td>\n      <td>0.262305</td>\n      <td>-0.025982</td>\n      <td>...</td>\n      <td>0.138693</td>\n      <td>0.106232</td>\n      <td>0.222061</td>\n      <td>0.125454</td>\n      <td>0.095599</td>\n      <td>0.122009</td>\n      <td>0.184002</td>\n      <td>0.144643</td>\n      <td>INDUSTRIAL</td>\n      <td>4.0</td>\n    </tr>\n    <tr>\n      <th>3E566F8A461FDBA3</th>\n      <td>-0.122846</td>\n      <td>0.052674</td>\n      <td>-0.113352</td>\n      <td>-0.141642</td>\n      <td>0.003791</td>\n      <td>-0.018561</td>\n      <td>-0.042976</td>\n      <td>0.103945</td>\n      <td>-0.036428</td>\n      <td>0.072564</td>\n      <td>...</td>\n      <td>0.128406</td>\n      <td>0.127457</td>\n      <td>0.174461</td>\n      <td>0.105774</td>\n      <td>0.110990</td>\n      <td>0.136071</td>\n      <td>0.193305</td>\n      <td>0.151943</td>\n      <td>RESIDENTIAL</td>\n      <td>2.0</td>\n    </tr>\n    <tr>\n      <th>0E6F8A7388F1FF25</th>\n      <td>-0.106659</td>\n      <td>0.100091</td>\n      <td>0.023808</td>\n      <td>-0.176866</td>\n      <td>0.227939</td>\n      <td>0.053895</td>\n      <td>-0.059686</td>\n      <td>0.090335</td>\n      <td>-0.020704</td>\n      <td>0.101042</td>\n      <td>...</td>\n      <td>0.131898</td>\n      <td>0.131081</td>\n      <td>0.161332</td>\n      <td>0.105684</td>\n      <td>0.122818</td>\n      <td>0.144666</td>\n      <td>0.188166</td>\n      <td>0.146253</td>\n      <td>RESIDENTIAL</td>\n      <td>0.0</td>\n    </tr>\n  </tbody>\n</table>\n<p>103230 rows × 236 columns</p>\n</div>"
     },
     "metadata": {},
     "output_type": "execute_result",
     "execution_count": 342
    }
   ],
   "source": [
    "pd.read_csv(\"../src/data/train_NN.txt\", sep=\"|\", index_col='ID')\n"
   ],
   "metadata": {
    "collapsed": false,
    "pycharm": {
     "name": "#%%\n",
     "is_executing": false
    }
   }
  },
  {
   "cell_type": "code",
   "execution_count": 246,
   "outputs": [],
   "source": [],
   "metadata": {
    "collapsed": false,
    "pycharm": {
     "name": "#%%\n",
     "is_executing": false
    }
   }
  },
  {
   "cell_type": "code",
   "execution_count": 244,
   "outputs": [],
   "source": [],
   "metadata": {
    "collapsed": false,
    "pycharm": {
     "name": "#%%\n",
     "is_executing": false
    }
   }
  },
  {
   "cell_type": "code",
   "execution_count": 265,
   "outputs": [
    {
     "data": {
      "text/plain": "((20646, 22), (20646, 10))"
     },
     "metadata": {},
     "output_type": "execute_result",
     "execution_count": 265
    }
   ],
   "source": [],
   "metadata": {
    "collapsed": false,
    "pycharm": {
     "name": "#%%\n",
     "is_executing": false
    }
   }
  },
  {
   "cell_type": "code",
   "execution_count": 171,
   "outputs": [
    {
     "data": {
      "text/plain": "{}"
     },
     "metadata": {},
     "output_type": "execute_result",
     "execution_count": 171
    }
   ],
   "source": [
    "h1.history"
   ],
   "metadata": {
    "collapsed": false,
    "pycharm": {
     "name": "#%%\n",
     "is_executing": false
    }
   }
  }
 ],
 "metadata": {
  "kernelspec": {
   "name": "datathon",
   "language": "python",
   "display_name": "datathon"
  },
  "language_info": {
   "codemirror_mode": {
    "name": "ipython",
    "version": 2
   },
   "file_extension": ".py",
   "mimetype": "text/x-python",
   "name": "python",
   "nbconvert_exporter": "python",
   "pygments_lexer": "ipython2",
   "version": "2.7.6"
  },
  "pycharm": {
   "stem_cell": {
    "cell_type": "raw",
    "source": [],
    "metadata": {
     "collapsed": false
    }
   }
  }
 },
 "nbformat": 4,
 "nbformat_minor": 0
}
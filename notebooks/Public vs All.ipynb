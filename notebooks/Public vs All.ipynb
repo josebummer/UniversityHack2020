{
 "cells": [
  {
   "cell_type": "code",
   "execution_count": 1,
   "metadata": {},
   "outputs": [
    {
     "name": "stderr",
     "output_type": "stream",
     "text": [
      "/home/jose/anaconda3/envs/py/lib/python3.7/site-packages/sklearn/utils/deprecation.py:144: FutureWarning: The sklearn.neighbors.base module is  deprecated in version 0.22 and will be removed in version 0.24. The corresponding classes / functions should instead be imported from sklearn.neighbors. Anything that cannot be imported from sklearn.neighbors is now part of the private API.\n",
      "  warnings.warn(message, FutureWarning)\n",
      "/home/jose/anaconda3/envs/py/lib/python3.7/site-packages/sklearn/utils/deprecation.py:144: FutureWarning: The sklearn.ensemble.bagging module is  deprecated in version 0.22 and will be removed in version 0.24. The corresponding classes / functions should instead be imported from sklearn.ensemble. Anything that cannot be imported from sklearn.ensemble is now part of the private API.\n",
      "  warnings.warn(message, FutureWarning)\n",
      "/home/jose/anaconda3/envs/py/lib/python3.7/site-packages/sklearn/utils/deprecation.py:144: FutureWarning: The sklearn.ensemble.base module is  deprecated in version 0.22 and will be removed in version 0.24. The corresponding classes / functions should instead be imported from sklearn.ensemble. Anything that cannot be imported from sklearn.ensemble is now part of the private API.\n",
      "  warnings.warn(message, FutureWarning)\n",
      "/home/jose/anaconda3/envs/py/lib/python3.7/site-packages/sklearn/utils/deprecation.py:144: FutureWarning: The sklearn.ensemble.forest module is  deprecated in version 0.22 and will be removed in version 0.24. The corresponding classes / functions should instead be imported from sklearn.ensemble. Anything that cannot be imported from sklearn.ensemble is now part of the private API.\n",
      "  warnings.warn(message, FutureWarning)\n",
      "/home/jose/anaconda3/envs/py/lib/python3.7/site-packages/sklearn/utils/deprecation.py:144: FutureWarning: The sklearn.utils.testing module is  deprecated in version 0.22 and will be removed in version 0.24. The corresponding classes / functions should instead be imported from sklearn.utils. Anything that cannot be imported from sklearn.utils is now part of the private API.\n",
      "  warnings.warn(message, FutureWarning)\n",
      "/home/jose/anaconda3/envs/py/lib/python3.7/site-packages/sklearn/utils/deprecation.py:144: FutureWarning: The sklearn.metrics.classification module is  deprecated in version 0.22 and will be removed in version 0.24. The corresponding classes / functions should instead be imported from sklearn.metrics. Anything that cannot be imported from sklearn.metrics is now part of the private API.\n",
      "  warnings.warn(message, FutureWarning)\n"
     ]
    }
   ],
   "source": [
    "import pickle\n",
    "from sklearn.metrics import accuracy_score, classification_report, confusion_matrix, make_scorer, f1_score, recall_score\n",
    "from sklearn.preprocessing import StandardScaler\n",
    "from sklearn.model_selection import train_test_split\n",
    "from sklearn.neighbors import KNeighborsClassifier\n",
    "from sklearn.model_selection import GridSearchCV, RandomizedSearchCV\n",
    "from xgboost import XGBClassifier\n",
    "from imblearn.under_sampling import EditedNearestNeighbours\n",
    "import numpy as np\n",
    "import seaborn as sns\n",
    "import pandas as pd"
   ]
  },
  {
   "cell_type": "code",
   "execution_count": 2,
   "metadata": {},
   "outputs": [],
   "source": [
    "data = pd.read_csv('/home/jose/Escritorio/datathon/src/data/train.txt', sep='|', index_col='ID')\n",
    "# test = pd.read_csv('/home/jose/Escritorio/datathon/src/data/test.txt', sep='|', index_col='ID')\n",
    "\n",
    "labels = data.iloc[:, -1].map({\n",
    "    'RESIDENTIAL': -1,\n",
    "    'INDUSTRIAL': -1,\n",
    "    'PUBLIC': 1,\n",
    "    'OFFICE': -1,\n",
    "    'RETAIL': -1,\n",
    "    'AGRICULTURE': -1,\n",
    "    'OTHER': -1,\n",
    "})\n",
    "data.drop('CLASE', axis=1, inplace=True)\n",
    "\n",
    "train, test, y_train, y_test = train_test_split(data, labels, test_size=0.2, random_state=123)\n",
    "\n",
    "data = pd.concat([train, test], sort=False)\n",
    "\n",
    "data['CADASTRALQUALITYID'] = data['CADASTRALQUALITYID'].map({'9': '0',\n",
    "                               '8': '1',\n",
    "                               '7': '2',\n",
    "                               '6': '3',\n",
    "                               '5': '4',\n",
    "                               '4': '5',\n",
    "                               '3': '6',\n",
    "                               '2': '7',\n",
    "                               '1': '8',\n",
    "                               'C': '9',\n",
    "                               'B': '10',\n",
    "                               'A': '11',})\n",
    "data['CADASTRALQUALITYID'] = data['CADASTRALQUALITYID'].astype('category')"
   ]
  },
  {
   "cell_type": "code",
   "execution_count": 3,
   "metadata": {},
   "outputs": [],
   "source": [
    "data['MAXBUILDINGFLOOR'].fillna(data['MAXBUILDINGFLOOR'].median(), inplace=True)\n",
    "data['CADASTRALQUALITYID'].fillna(data['CADASTRALQUALITYID'].mode()[0], inplace=True)"
   ]
  },
  {
   "cell_type": "code",
   "execution_count": 4,
   "metadata": {},
   "outputs": [],
   "source": [
    "sc = StandardScaler()\n",
    "data = pd.concat([pd.DataFrame(sc.fit_transform(data.select_dtypes(['number'])),\n",
    "                              index=data.index,\n",
    "                              columns=data.select_dtypes(['number']).columns),\n",
    "                data.select_dtypes(['category', 'object'])], axis=1, sort=False)\n",
    "\n",
    "train, test = data.iloc[:train.shape[0], ], data.iloc[train.shape[0]:, ]"
   ]
  },
  {
   "cell_type": "code",
   "execution_count": 5,
   "metadata": {},
   "outputs": [],
   "source": [
    "model = KNeighborsClassifier(n_jobs=-1)\n",
    "\n",
    "model.fit(train, y_train)\n",
    "y_pred = model.predict(test)"
   ]
  },
  {
   "cell_type": "code",
   "execution_count": 6,
   "metadata": {},
   "outputs": [
    {
     "data": {
      "text/plain": [
       "0.9723917465852949"
      ]
     },
     "execution_count": 6,
     "metadata": {},
     "output_type": "execute_result"
    }
   ],
   "source": [
    "accuracy_score(y_test, y_pred)"
   ]
  },
  {
   "cell_type": "code",
   "execution_count": 7,
   "metadata": {},
   "outputs": [
    {
     "name": "stdout",
     "output_type": "stream",
     "text": [
      "              precision    recall  f1-score   support\n",
      "\n",
      "          -1     0.9742    0.9980    0.9860     20048\n",
      "           1     0.6296    0.1137    0.1926       598\n",
      "\n",
      "    accuracy                         0.9724     20646\n",
      "   macro avg     0.8019    0.5559    0.5893     20646\n",
      "weighted avg     0.9642    0.9724    0.9630     20646\n",
      "\n"
     ]
    }
   ],
   "source": [
    "print(classification_report(y_test, y_pred, digits=4))"
   ]
  },
  {
   "cell_type": "code",
   "execution_count": 8,
   "metadata": {
    "scrolled": true
   },
   "outputs": [
    {
     "name": "stdout",
     "output_type": "stream",
     "text": [
      "[[20008    40]\n",
      " [  530    68]]\n"
     ]
    }
   ],
   "source": [
    "print(confusion_matrix(y_test, y_pred))"
   ]
  },
  {
   "cell_type": "code",
   "execution_count": 25,
   "metadata": {},
   "outputs": [],
   "source": [
    "params = False\n",
    "\n",
    "if params:\n",
    "    params = {'n_neighbors': [1,3,5,7,11,13,15,21],\n",
    "             'weights': ['uniform', 'distance'],\n",
    "             'metric': ['minkowski', 'manhattan'],\n",
    "             'n_jobs': [-1]}\n",
    "\n",
    "    model = KNeighborsClassifier()\n",
    "\n",
    "    grid = GridSearchCV(model, params, cv=5, scoring=make_scorer(f1_score), n_jobs=-1)\n",
    "\n",
    "    grid.fit(train, y_train)\n",
    "    \n",
    "    best_params = grid.best_params_\n",
    "    \n",
    "    model = KNeighborsClassifier(**best_params)\n",
    "    model.fit(train, y_train)\n",
    "    \n",
    "    print(best_params)\n",
    "else:\n",
    "    best_params = {'metric': 'manhattan', 'n_jobs': -1, 'n_neighbors': 1, 'weights': 'uniform'}\n",
    "    model = KNeighborsClassifier(**best_params)\n",
    "    model.fit(train, y_train)"
   ]
  },
  {
   "cell_type": "code",
   "execution_count": 26,
   "metadata": {},
   "outputs": [],
   "source": [
    "y_pred = model.predict(test)"
   ]
  },
  {
   "cell_type": "code",
   "execution_count": 27,
   "metadata": {},
   "outputs": [
    {
     "data": {
      "text/plain": [
       "0.9642061416254964"
      ]
     },
     "execution_count": 27,
     "metadata": {},
     "output_type": "execute_result"
    }
   ],
   "source": [
    "accuracy_score(y_test, y_pred)"
   ]
  },
  {
   "cell_type": "code",
   "execution_count": 28,
   "metadata": {
    "scrolled": true
   },
   "outputs": [
    {
     "name": "stdout",
     "output_type": "stream",
     "text": [
      "              precision    recall  f1-score   support\n",
      "\n",
      "          -1     0.9781    0.9852    0.9816     20048\n",
      "           1     0.3444    0.2609    0.2969       598\n",
      "\n",
      "    accuracy                         0.9642     20646\n",
      "   macro avg     0.6612    0.6230    0.6392     20646\n",
      "weighted avg     0.9598    0.9642    0.9618     20646\n",
      "\n"
     ]
    }
   ],
   "source": [
    "print(classification_report(y_test, y_pred, digits=4))"
   ]
  },
  {
   "cell_type": "code",
   "execution_count": 24,
   "metadata": {
    "scrolled": false
   },
   "outputs": [
    {
     "name": "stdout",
     "output_type": "stream",
     "text": [
      "[[19751   297]\n",
      " [  442   156]]\n"
     ]
    }
   ],
   "source": [
    "print(confusion_matrix(y_test, y_pred))"
   ]
  },
  {
   "cell_type": "code",
   "execution_count": 30,
   "metadata": {},
   "outputs": [],
   "source": [
    "data = pd.concat([train,test], sort=False)\n",
    "data['CADASTRALQUALITYID'] = data['CADASTRALQUALITYID'].astype(np.int)\n",
    "ncol = sc.fit_transform((data['CADASTRALQUALITYID'].values).reshape(-1,1))\n",
    "data['CADASTRALQUALITYID'] = ncol\n",
    "\n",
    "train, test = data.iloc[:train.shape[0], ], data.iloc[train.shape[0]:, ]"
   ]
  },
  {
   "cell_type": "code",
   "execution_count": 31,
   "metadata": {},
   "outputs": [],
   "source": [
    "params = False\n",
    "\n",
    "if params:\n",
    "    params = {'max_depth': [5,10,15],\n",
    "             'learning_rate': np.linspace(0.001, 0.15, 6),\n",
    "             'n_jobs': [-1],\n",
    "              'gamma': np.linspace(0,1,4),\n",
    "              'min_child_weight': [1,2,3],\n",
    "              'n_estimators': [100,400,800],\n",
    "             'random_state': [123]}\n",
    "\n",
    "    model = XGBClassifier()\n",
    "\n",
    "    grid = RandomizedSearchCV(model, params, cv=5, scoring=make_scorer(f1_score), n_jobs=-1)\n",
    "\n",
    "    grid.fit(train, y_train)\n",
    "    \n",
    "    best_params = grid.best_params_\n",
    "    \n",
    "    model = XGBClassifier(**best_params)\n",
    "    model.fit(train, y_train)\n",
    "    \n",
    "    print(best_params)\n",
    "else:\n",
    "    best_params = {'random_state': 123, 'n_jobs': -1, 'n_estimators': 1000, 'max_depth': 20}\n",
    "    model = XGBClassifier(**best_params)\n",
    "    model.fit(train, y_train)"
   ]
  },
  {
   "cell_type": "code",
   "execution_count": 32,
   "metadata": {},
   "outputs": [
    {
     "data": {
      "text/plain": [
       "0.9642061416254964"
      ]
     },
     "execution_count": 32,
     "metadata": {},
     "output_type": "execute_result"
    }
   ],
   "source": [
    "accuracy_score(y_test, y_pred)"
   ]
  },
  {
   "cell_type": "code",
   "execution_count": 33,
   "metadata": {
    "scrolled": true
   },
   "outputs": [
    {
     "name": "stdout",
     "output_type": "stream",
     "text": [
      "              precision    recall  f1-score   support\n",
      "\n",
      "          -1     0.9781    0.9852    0.9816     20048\n",
      "           1     0.3444    0.2609    0.2969       598\n",
      "\n",
      "    accuracy                         0.9642     20646\n",
      "   macro avg     0.6612    0.6230    0.6392     20646\n",
      "weighted avg     0.9598    0.9642    0.9618     20646\n",
      "\n"
     ]
    }
   ],
   "source": [
    "print(classification_report(y_test, y_pred, digits=4))"
   ]
  },
  {
   "cell_type": "code",
   "execution_count": 34,
   "metadata": {
    "scrolled": true
   },
   "outputs": [
    {
     "name": "stdout",
     "output_type": "stream",
     "text": [
      "[[19751   297]\n",
      " [  442   156]]\n"
     ]
    }
   ],
   "source": [
    "print(confusion_matrix(y_test, y_pred))"
   ]
  },
  {
   "cell_type": "code",
   "execution_count": null,
   "metadata": {},
   "outputs": [],
   "source": []
  }
 ],
 "metadata": {
  "kernelspec": {
   "display_name": "Python (py)",
   "language": "python",
   "name": "myenv"
  },
  "language_info": {
   "codemirror_mode": {
    "name": "ipython",
    "version": 3
   },
   "file_extension": ".py",
   "mimetype": "text/x-python",
   "name": "python",
   "nbconvert_exporter": "python",
   "pygments_lexer": "ipython3",
   "version": "3.7.4"
  }
 },
 "nbformat": 4,
 "nbformat_minor": 2
}
